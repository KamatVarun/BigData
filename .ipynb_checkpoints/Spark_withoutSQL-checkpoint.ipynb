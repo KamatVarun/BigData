{
 "cells": [
  {
   "cell_type": "markdown",
   "id": "e9a7582e",
   "metadata": {},
   "source": [
    "# Milestone 1 without SparkSQL - Group 18"
   ]
  },
  {
   "cell_type": "code",
   "execution_count": 1,
   "id": "4e43fa4b",
   "metadata": {},
   "outputs": [],
   "source": [
    "import pandas as pd\n",
    "\n",
    "import findspark\n",
    "findspark.init()\n",
    "from pyspark.sql import functions as sf\n",
    "from pyspark.sql.functions import when, col, trim, to_timestamp\n",
    "from pyspark.sql.types import IntegerType, StringType\n",
    "from pyspark.sql.functions import lead, lag\n",
    "from pyspark.sql.window import Window\n",
    "import pyspark.sql.functions as func\n",
    "from pyspark.sql.functions import udf\n",
    "import matplotlib.pyplot as plt\n",
    "import matplotlib as mp\n",
    "import numpy as np\n",
    "import pyspark\n",
    "from pyspark.sql import SparkSession\n",
    "\n",
    "spark = SparkSession.builder.getOrCreate()"
   ]
  },
  {
   "cell_type": "markdown",
   "id": "2dce9868",
   "metadata": {},
   "source": [
    "# Loading the Data"
   ]
  },
  {
   "cell_type": "code",
   "execution_count": 2,
   "id": "c23b4ba6",
   "metadata": {},
   "outputs": [
    {
     "name": "stdout",
     "output_type": "stream",
     "text": [
      "Number of rows in raw data: 38374197\n",
      "root\n",
      " |-- Dummy: string (nullable = true)\n",
      " |-- Date: string (nullable = true)\n",
      " |-- Price: double (nullable = true)\n",
      " |-- Volume: string (nullable = true)\n",
      "\n"
     ]
    }
   ],
   "source": [
    "raw_df = spark.read.option(\"header\",True) \\\n",
    "    .csv(\"../MS1.csv\",inferSchema=True).toDF(\n",
    "  \"Dummy\", \"Date\", \"Price\", \"Volume\"\n",
    ")\n",
    "print('Number of rows in raw data:', raw_df.count())\n",
    "\n",
    "raw_df.printSchema()"
   ]
  },
  {
   "cell_type": "markdown",
   "id": "e3f48366",
   "metadata": {},
   "source": [
    "# View the Data"
   ]
  },
  {
   "cell_type": "code",
   "execution_count": 3,
   "id": "8c4fcf0e",
   "metadata": {},
   "outputs": [
    {
     "name": "stdout",
     "output_type": "stream",
     "text": [
      "+--------------------+----------+-----+------+\n",
      "|               Dummy|      Date|Price|Volume|\n",
      "+--------------------+----------+-----+------+\n",
      "|32843.Nordamerika...|01/04/2016|18.52| 51616|\n",
      "|32843.Nordamerika...|01/05/2016|19.15| 54898|\n",
      "|32843.Nordamerika...|01/06/2016|19.71| 41555|\n",
      "|32843.Nordamerika...|01/07/2016|19.17| 44430|\n",
      "|32843.Nordamerika...|01/08/2016|18.94| 72673|\n",
      "|32843.Nordamerika...|01/11/2016| 19.1| 45426|\n",
      "|32843.Nordamerika...|01/12/2016|19.39| 61457|\n",
      "|32843.Nordamerika...|01/13/2016|19.27| 61805|\n",
      "|32843.Nordamerika...|01/14/2016|19.17| 35597|\n",
      "|32843.Nordamerika...|01/15/2016|18.81| 69227|\n",
      "|32843.Nordamerika...|01/18/2016|18.81| 69227|\n",
      "|32843.Nordamerika...|01/19/2016|18.82| 23700|\n",
      "|32843.Nordamerika...|01/20/2016|17.97| 41439|\n",
      "|32843.Nordamerika...|01/21/2016|17.82| 35240|\n",
      "|32843.Nordamerika...|01/22/2016|18.62| 79139|\n",
      "|32843.Nordamerika...|01/25/2016|18.09| 89251|\n",
      "|32843.Nordamerika...|01/26/2016|17.62| 75300|\n",
      "|32843.Nordamerika...|01/27/2016|17.58| 43142|\n",
      "|32843.Nordamerika...|01/28/2016| 17.7| 20499|\n",
      "|32843.Nordamerika...|01/29/2016|17.74| 41931|\n",
      "+--------------------+----------+-----+------+\n",
      "only showing top 20 rows\n",
      "\n"
     ]
    }
   ],
   "source": [
    "raw_df.show()"
   ]
  },
  {
   "cell_type": "markdown",
   "id": "032647ad",
   "metadata": {},
   "source": [
    "# Data Pre-processing"
   ]
  },
  {
   "cell_type": "code",
   "execution_count": 4,
   "id": "7e060ed4",
   "metadata": {},
   "outputs": [],
   "source": [
    "from pyspark.sql.functions import split\n",
    "import pyspark.sql.functions as f\n",
    "raw_df=raw_df.withColumn(\"Number\", split(col(\"Dummy\"), \"[.]\").getItem(0)).withColumn(\"Name\", split(col(\"Dummy\"), \"[.]\").getItem(1))"
   ]
  },
  {
   "cell_type": "code",
   "execution_count": 5,
   "id": "1dfc290b",
   "metadata": {},
   "outputs": [],
   "source": [
    "raw_df=raw_df.drop(raw_df.Dummy)\n"
   ]
  },
  {
   "cell_type": "code",
   "execution_count": 6,
   "id": "36ce91fd",
   "metadata": {},
   "outputs": [
    {
     "name": "stdout",
     "output_type": "stream",
     "text": [
      "+----------+-------+------+------+--------------------+\n",
      "|      Date|  Price|Volume|Number|                Name|\n",
      "+----------+-------+------+------+--------------------+\n",
      "|01/04/2016|  18.52| 51616| 32843|Nordamerika_USA-N...|\n",
      "|01/05/2016|  19.15| 54898| 32843|Nordamerika_USA-N...|\n",
      "|01/06/2016|  19.71| 41555| 32843|Nordamerika_USA-N...|\n",
      "|01/07/2016|  19.17| 44430| 32843|Nordamerika_USA-N...|\n",
      "|01/08/2016|  18.94| 72673| 32843|Nordamerika_USA-N...|\n",
      "|01/11/2016|   19.1| 45426| 32843|Nordamerika_USA-N...|\n",
      "|01/12/2016|  19.39| 61457| 32843|Nordamerika_USA-N...|\n",
      "|01/13/2016|  19.27| 61805| 32843|Nordamerika_USA-N...|\n",
      "|01/14/2016|  19.17| 35597| 32843|Nordamerika_USA-N...|\n",
      "|01/15/2016|  18.81| 69227| 32843|Nordamerika_USA-N...|\n",
      "|01/18/2016|  18.81| 69227| 32843|Nordamerika_USA-N...|\n",
      "|01/19/2016|  18.82| 23700| 32843|Nordamerika_USA-N...|\n",
      "|01/20/2016|  17.97| 41439| 32843|Nordamerika_USA-N...|\n",
      "|01/21/2016|  17.82| 35240| 32843|Nordamerika_USA-N...|\n",
      "|01/22/2016|  18.62| 79139| 32843|Nordamerika_USA-N...|\n",
      "|01/25/2016|  18.09| 89251| 32843|Nordamerika_USA-N...|\n",
      "|01/26/2016|  17.62| 75300| 32843|Nordamerika_USA-N...|\n",
      "|01/27/2016|  17.58| 43142| 32843|Nordamerika_USA-N...|\n",
      "|01/28/2016|   17.7| 20499| 32843|Nordamerika_USA-N...|\n",
      "|01/29/2016|  17.74| 41931| 32843|Nordamerika_USA-N...|\n",
      "|02/01/2016|  18.61| 25927| 32843|Nordamerika_USA-N...|\n",
      "|02/02/2016|  18.08| 27999| 32843|Nordamerika_USA-N...|\n",
      "|02/03/2016|  17.78| 27809| 32843|Nordamerika_USA-N...|\n",
      "|02/04/2016|  17.42| 33929| 32843|Nordamerika_USA-N...|\n",
      "|02/05/2016|  17.31| 46234| 32843|Nordamerika_USA-N...|\n",
      "|02/08/2016|  16.93| 29098| 32843|Nordamerika_USA-N...|\n",
      "|02/09/2016|  16.66| 22557| 32843|Nordamerika_USA-N...|\n",
      "|02/10/2016|   16.9| 39625| 32843|Nordamerika_USA-N...|\n",
      "|02/11/2016|  16.26| 22332| 32843|Nordamerika_USA-N...|\n",
      "|02/12/2016|  16.42| 36093| 32843|Nordamerika_USA-N...|\n",
      "|02/15/2016|  16.42| 36093| 32843|Nordamerika_USA-N...|\n",
      "|02/16/2016|  16.96| 12770| 32843|Nordamerika_USA-N...|\n",
      "|02/17/2016|  16.95| 36408| 32843|Nordamerika_USA-N...|\n",
      "|02/18/2016|  17.39| 40048| 32843|Nordamerika_USA-N...|\n",
      "|02/19/2016|  17.01| 41140| 32843|Nordamerika_USA-N...|\n",
      "|02/22/2016|  19.01|234957| 32843|Nordamerika_USA-N...|\n",
      "|02/23/2016|  18.79| 94191| 32843|Nordamerika_USA-N...|\n",
      "|02/24/2016|  18.87| 75470| 32843|Nordamerika_USA-N...|\n",
      "|02/25/2016|   19.0| 89111| 32843|Nordamerika_USA-N...|\n",
      "|02/26/2016|  19.51|111610| 32843|Nordamerika_USA-N...|\n",
      "|02/29/2016|  19.68|126369| 32843|Nordamerika_USA-N...|\n",
      "|03/01/2016|   19.8| 66060| 32843|Nordamerika_USA-N...|\n",
      "|03/02/2016|  19.76| 56627| 32843|Nordamerika_USA-N...|\n",
      "|03/03/2016|   19.8| 29961| 32843|Nordamerika_USA-N...|\n",
      "|03/04/2016|   19.7| 27620| 32843|Nordamerika_USA-N...|\n",
      "|03/07/2016|  19.69| 51229| 32843|Nordamerika_USA-N...|\n",
      "|03/08/2016|  19.79| 37329| 32843|Nordamerika_USA-N...|\n",
      "|03/09/2016|  19.56| 28248| 32843|Nordamerika_USA-N...|\n",
      "|03/10/2016|  19.78| 30213| 32843|Nordamerika_USA-N...|\n",
      "|03/11/2016|  19.69| 83338| 32843|Nordamerika_USA-N...|\n",
      "|03/14/2016|  19.99| 56600| 32843|Nordamerika_USA-N...|\n",
      "|03/15/2016|   20.0| 28377| 32843|Nordamerika_USA-N...|\n",
      "|03/16/2016|  19.96| 61430| 32843|Nordamerika_USA-N...|\n",
      "|03/17/2016|  19.92|179954| 32843|Nordamerika_USA-N...|\n",
      "|03/18/2016|  20.29|160484| 32843|Nordamerika_USA-N...|\n",
      "|03/21/2016|  20.79|137558| 32843|Nordamerika_USA-N...|\n",
      "|03/22/2016|  21.31| 54688| 32843|Nordamerika_USA-N...|\n",
      "|03/23/2016|  20.57| 86411| 32843|Nordamerika_USA-N...|\n",
      "|03/24/2016|  19.77| 32807| 32843|Nordamerika_USA-N...|\n",
      "|03/25/2016|  19.77| 32807| 32843|Nordamerika_USA-N...|\n",
      "|03/28/2016|  19.54| 44634| 32843|Nordamerika_USA-N...|\n",
      "|03/29/2016|  19.39| 34416| 32843|Nordamerika_USA-N...|\n",
      "|03/30/2016|  20.07| 59291| 32843|Nordamerika_USA-N...|\n",
      "|03/31/2016|  19.71| 46520| 32843|Nordamerika_USA-N...|\n",
      "|04/01/2016|  19.45| 30144| 32843|Nordamerika_USA-N...|\n",
      "|04/04/2016|  19.32| 27405| 32843|Nordamerika_USA-N...|\n",
      "|04/05/2016|  18.92| 55650| 32843|Nordamerika_USA-N...|\n",
      "|04/06/2016|  18.67| 74928| 32843|Nordamerika_USA-N...|\n",
      "|04/07/2016|  18.81| 70763| 32843|Nordamerika_USA-N...|\n",
      "|04/08/2016|  19.07| 57696| 32843|Nordamerika_USA-N...|\n",
      "|04/11/2016|  19.36| 52475| 32843|Nordamerika_USA-N...|\n",
      "|04/12/2016|  19.53| 50239| 32843|Nordamerika_USA-N...|\n",
      "|04/13/2016|  20.04| 53427| 32843|Nordamerika_USA-N...|\n",
      "|04/14/2016|  19.43| 20032| 32843|Nordamerika_USA-N...|\n",
      "|04/15/2016|  19.45| 32626| 32843|Nordamerika_USA-N...|\n",
      "|04/18/2016|  19.92| 76413| 32843|Nordamerika_USA-N...|\n",
      "|04/19/2016|   20.2| 38334| 32843|Nordamerika_USA-N...|\n",
      "|04/20/2016|  20.65| 40912| 32843|Nordamerika_USA-N...|\n",
      "|04/21/2016|  20.84| 13147| 32843|Nordamerika_USA-N...|\n",
      "|04/22/2016|  20.84| 16166| 32843|Nordamerika_USA-N...|\n",
      "|04/25/2016| 20.345| 19823| 32843|Nordamerika_USA-N...|\n",
      "|04/26/2016|  19.64| 28623| 32843|Nordamerika_USA-N...|\n",
      "|04/27/2016|  19.73| 67886| 32843|Nordamerika_USA-N...|\n",
      "|04/28/2016|  20.71| 72990| 32843|Nordamerika_USA-N...|\n",
      "|04/29/2016|  22.55| 55116| 32843|Nordamerika_USA-N...|\n",
      "|05/02/2016|  21.72| 69755| 32843|Nordamerika_USA-N...|\n",
      "|05/03/2016|  21.57| 51293| 32843|Nordamerika_USA-N...|\n",
      "|05/04/2016|  21.65| 49320| 32843|Nordamerika_USA-N...|\n",
      "|05/05/2016|  22.25| 49827| 32843|Nordamerika_USA-N...|\n",
      "|05/06/2016|  22.05| 37105| 32843|Nordamerika_USA-N...|\n",
      "|05/09/2016|  22.84| 45084| 32843|Nordamerika_USA-N...|\n",
      "|05/10/2016|  24.11| 48296| 32843|Nordamerika_USA-N...|\n",
      "|05/11/2016|  23.59| 36403| 32843|Nordamerika_USA-N...|\n",
      "|05/12/2016|  23.53| 49779| 32843|Nordamerika_USA-N...|\n",
      "|05/13/2016|23.6499| 41981| 32843|Nordamerika_USA-N...|\n",
      "|05/16/2016|  23.06| 25961| 32843|Nordamerika_USA-N...|\n",
      "|05/17/2016|  23.46| 40994| 32843|Nordamerika_USA-N...|\n",
      "|05/18/2016|  22.32| 44956| 32843|Nordamerika_USA-N...|\n",
      "|05/19/2016|   22.6| 38264| 32843|Nordamerika_USA-N...|\n",
      "|05/20/2016|  22.56| 37948| 32843|Nordamerika_USA-N...|\n",
      "+----------+-------+------+------+--------------------+\n",
      "only showing top 100 rows\n",
      "\n"
     ]
    },
    {
     "data": {
      "text/plain": [
       "38374197"
      ]
     },
     "execution_count": 6,
     "metadata": {},
     "output_type": "execute_result"
    }
   ],
   "source": [
    "raw_df.show(100)\n",
    "raw_df.count()"
   ]
  },
  {
   "cell_type": "code",
   "execution_count": 38,
   "id": "6561986f",
   "metadata": {},
   "outputs": [],
   "source": [
    "raw_df\n",
    "X_df = raw_df.select(\"Date\", \"Price\")\n",
    "X_df = X_df.sort(\"Date\").limit(100)"
   ]
  },
  {
   "cell_type": "code",
   "execution_count": 39,
   "id": "923ea84f",
   "metadata": {},
   "outputs": [],
   "source": [
    "\n",
    "X_df_array = np.array(X_df.select(\"Price\").collect())\n",
    "X_df_array = np.concatenate( X_df_array, axis=0 )"
   ]
  },
  {
   "cell_type": "code",
   "execution_count": 8,
   "id": "16526f9f",
   "metadata": {},
   "outputs": [],
   "source": [
    "#delete missing values\n",
    "raw_df=raw_df.na.drop()\n",
    "# raw_df.count()"
   ]
  },
  {
   "cell_type": "markdown",
   "id": "dc74abcb",
   "metadata": {},
   "source": [
    "# Loading Time Series Data"
   ]
  },
  {
   "cell_type": "code",
   "execution_count": 9,
   "id": "62ffd608",
   "metadata": {},
   "outputs": [
    {
     "name": "stdout",
     "output_type": "stream",
     "text": [
      "Number of rows in raw data: 11809233\n",
      "+--------------+--------+------------------+----------+----------+--------------+-----------------+------------+--------------+------------+------------+------------+-----------------------+------------------+------------------+---------------+-----------+--------------+------------+--------------+-------------------+----------------+---------------------------------+------------+-------------+-------------------+--------------------+-----------+------------+--------------------+--------------------------+--------------------+------------------+-------------+---------------------+------------+------------+--------------+-------------------+---------------------+---------------------------------+-----------------+------------------------+--------+---------+---------------+------------------+------------+----+----+----+\n",
      "|Summons Number|Plate ID|Registration State|Plate Type|Issue Date|Violation Code|Vehicle Body Type|Vehicle Make|Issuing Agency|Street Code1|Street Code2|Street Code3|Vehicle Expiration Date|Violation Location|Violation Precinct|Issuer Precinct|Issuer Code|Issuer Command|Issuer Squad|Violation Time|Time First Observed|Violation County|Violation In Front Of Or Opposite|House Number|  Street Name|Intersecting Street| Date First Observed|Law Section|Sub Division|Violation Legal Code|Days Parking In Effect    |From Hours In Effect|To Hours In Effect|Vehicle Color|Unregistered Vehicle?|Vehicle Year|Meter Number|Feet From Curb|Violation Post Code|Violation Description|No Standing or Stopping Violation|Hydrant Violation|Double Parking Violation|Latitude|Longitude|Community Board|Community Council |Census Tract| BIN| BBL| NTA|\n",
      "+--------------+--------+------------------+----------+----------+--------------+-----------------+------------+--------------+------------+------------+------------+-----------------------+------------------+------------------+---------------+-----------+--------------+------------+--------------+-------------------+----------------+---------------------------------+------------+-------------+-------------------+--------------------+-----------+------------+--------------------+--------------------------+--------------------+------------------+-------------+---------------------+------------+------------+--------------+-------------------+---------------------+---------------------------------+-----------------+------------------------+--------+---------+---------------+------------------+------------+----+----+----+\n",
      "|    8002531292| EPC5238|                NY|       PAS|10/01/2014|            21|             SUBN|       CHEVR|             T|       20390|       29890|       31490|   01/01/20150111 12...|              0007|                 7|              7|     345454|          T800|          A2|         0011A|               null|              NY|                                F|         133|     Essex St|               null|01/05/0001 12:00:...|        408|          d1|                null|                     Y Y Y|               1200A|             0300A|           BL|                 null|        2005|        null|             0|               A 77| 21-No Parking (st...|                             null|             null|                    null|    null|     null|           null|              null|        null|null|null|null|\n",
      "|    8015318440|  5298MD|                NY|       COM|03/06/2015|            14|              VAN|       FRUEH|             T|       27790|       19550|       19570|   01/01/88888888 12...|              0025|                25|             25|     333386|          T103|           B|         0942A|               null|              NY|                                F|        1916|     Park Ave|               null|01/05/0001 12:00:...|        408|           c|                null|                     YYYYY|               0700A|             1000A|        BROWN|                 null|           0|        null|             0|                CC3|       14-No Standing|                             null|             null|                    null|    null|     null|           null|              null|        null|null|null|null|\n",
      "|    7611181981| FYW2775|                NY|       PAS|07/28/2014|            46|             SUBN|       SUBAR|             T|        8130|        5430|        5580|   01/01/20160524 12...|              0072|                72|             72|     331845|          T302|           L|         1020A|               null|               K|                                F|         184|      31st St|               null|01/05/0001 12:00:...|        408|          f1|                null|                      null|                null|              null|        BLACK|                 null|        2010|        null|             0|               J 32| 46A-Double Parkin...|                             null|             null|                    null|    null|     null|           null|              null|        null|null|null|null|\n",
      "|    7445908067| GWE1987|                NY|       PAS|04/13/2015|            19|             4DSD|       LEXUS|             T|       59990|       16540|       16790|   01/01/20170111 12...|               102|               102|            102|     355669|          T402|           D|         0318P|               null|               Q|                                F|      120-20|  Queens Blvd|               null|01/05/0001 12:00:...|        408|          c3|                null|                     YYYYY|               0300P|             1000P|           GY|                 null|        2015|        null|             0|               01 4| 19-No Stand (bus ...|                             null|             null|                    null|    null|     null|           null|              null|        null|null|null|null|\n",
      "|    7037692864|T671196C|                NY|       PAS|05/19/2015|            19|             4DSD|       CHRYS|             T|       36090|       10410|       24690|   01/01/88888888 12...|              0028|                28|             28|     341248|          T103|           X|         0410P|               null|              NY|                                F|          66|   W 116th St|               null|01/05/0001 12:00:...|        408|          c3|                null|                   YYYYYYY|                null|              null|        BLACK|                 null|           0|        null|             0|               19 7| 19-No Stand (bus ...|                             null|             null|                    null|    null|     null|           null|              null|        null|null|null|null|\n",
      "|    7704791394| JJF6834|                PA|       PAS|11/20/2014|            21|             4DSD|       NISSA|             T|       74230|       37980|       38030|   01/01/20150688 12...|              0067|                67|             67|     357104|          T302|           A|         0839A|               null|               K|                                F|        1013|   Rutland Rd|               null|01/05/0001 12:00:...|        408|          d1|                null|                         Y|               0830A|             0900A|        WHITE|                 null|           0|        null|             0|               C 32| 21-No Parking (st...|                             null|             null|                    null|    null|     null|           null|              null|        null|null|null|null|\n",
      "|    7541599104| FYP8263|                NY|       PAS|08/01/2014|            21|             SUBN|       HONDA|             T|       77530|       63030|       93230|   01/01/20160605 12...|              0079|                79|             79|     355251|          T301|           O|         0951A|               null|               K|                                F|         155|  Skillman St|               null|01/05/0001 12:00:...|        408|          d1|                null|                      Y  Y|               0830A|             1000A|           BK|                 null|        2012|        null|             0|               10 3| 21-No Parking (st...|                             null|             null|                    null|    null|     null|           null|              null|        null|null|null|null|\n",
      "|    7443513951| FZL7450|                NY|       PAS|07/19/2014|            71|             4DSD|       VOLVO|             T|       49210|           0|           0|   01/01/20140927 12...|               103|               103|            103|     353083|          T402|           L|         1043A|               null|               Q|                                I|           S|Henderson Ave| 30ft W/of 189th St|01/05/0001 12:00:...|        408|          j6|                null|                   YYYYYYY|                null|              null|           GR|                 null|        2002|        null|             0|               A 42| 71A-Insp Sticker ...|                             null|             null|                    null|    null|     null|           null|              null|        null|null|null|null|\n",
      "|    7426321423| 86318MA|                NY|       COM|09/23/2014|            69|              VAN|       CHEVR|             T|       21690|       26990|       26790|   01/01/20150720 12...|              0005|                 5|              5|     346381|          T105|           E|         0144P|               null|              NY|                                O|         199|     Grand St|               null|01/05/0001 12:00:...|        408|          h1|                null|                         Y|               0900A|             0700P|           WH|                 null|        2007|        null|             0|                093| 69-Failure to Dis...|                             null|             null|                    null|    null|     null|           null|              null|        null|null|null|null|\n",
      "|    8017159560| GKX8095|                NY|       PAS|01/20/2015|            71|             4DSD|       LEXUS|             T|       35490|       35780|       22670|   01/01/20151207 12...|               113|               113|            113|     361082|          T402|           R|         0259P|               null|               Q|                                F|      137-22|    Bedell St|               null|01/05/0001 12:00:...|        408|          j6|                null|                   YYYYYYY|                null|              null|        GREEN|                 null|        1993|        null|             0|               N 42| 71A-Insp Sticker ...|                             null|             null|                    null|    null|     null|           null|              null|        null|null|null|null|\n",
      "+--------------+--------+------------------+----------+----------+--------------+-----------------+------------+--------------+------------+------------+------------+-----------------------+------------------+------------------+---------------+-----------+--------------+------------+--------------+-------------------+----------------+---------------------------------+------------+-------------+-------------------+--------------------+-----------+------------+--------------------+--------------------------+--------------------+------------------+-------------+---------------------+------------+------------+--------------+-------------------+---------------------+---------------------------------+-----------------+------------------------+--------+---------+---------------+------------------+------------+----+----+----+\n",
      "only showing top 10 rows\n",
      "\n",
      "root\n",
      " |-- Summons Number: string (nullable = true)\n",
      " |-- Plate ID: string (nullable = true)\n",
      " |-- Registration State: string (nullable = true)\n",
      " |-- Plate Type: string (nullable = true)\n",
      " |-- Issue Date: string (nullable = true)\n",
      " |-- Violation Code: string (nullable = true)\n",
      " |-- Vehicle Body Type: string (nullable = true)\n",
      " |-- Vehicle Make: string (nullable = true)\n",
      " |-- Issuing Agency: string (nullable = true)\n",
      " |-- Street Code1: string (nullable = true)\n",
      " |-- Street Code2: string (nullable = true)\n",
      " |-- Street Code3: string (nullable = true)\n",
      " |-- Vehicle Expiration Date: string (nullable = true)\n",
      " |-- Violation Location: string (nullable = true)\n",
      " |-- Violation Precinct: string (nullable = true)\n",
      " |-- Issuer Precinct: string (nullable = true)\n",
      " |-- Issuer Code: string (nullable = true)\n",
      " |-- Issuer Command: string (nullable = true)\n",
      " |-- Issuer Squad: string (nullable = true)\n",
      " |-- Violation Time: string (nullable = true)\n",
      " |-- Time First Observed: string (nullable = true)\n",
      " |-- Violation County: string (nullable = true)\n",
      " |-- Violation In Front Of Or Opposite: string (nullable = true)\n",
      " |-- House Number: string (nullable = true)\n",
      " |-- Street Name: string (nullable = true)\n",
      " |-- Intersecting Street: string (nullable = true)\n",
      " |-- Date First Observed: string (nullable = true)\n",
      " |-- Law Section: string (nullable = true)\n",
      " |-- Sub Division: string (nullable = true)\n",
      " |-- Violation Legal Code: string (nullable = true)\n",
      " |-- Days Parking In Effect    : string (nullable = true)\n",
      " |-- From Hours In Effect: string (nullable = true)\n",
      " |-- To Hours In Effect: string (nullable = true)\n",
      " |-- Vehicle Color: string (nullable = true)\n",
      " |-- Unregistered Vehicle?: string (nullable = true)\n",
      " |-- Vehicle Year: string (nullable = true)\n",
      " |-- Meter Number: string (nullable = true)\n",
      " |-- Feet From Curb: string (nullable = true)\n",
      " |-- Violation Post Code: string (nullable = true)\n",
      " |-- Violation Description: string (nullable = true)\n",
      " |-- No Standing or Stopping Violation: string (nullable = true)\n",
      " |-- Hydrant Violation: string (nullable = true)\n",
      " |-- Double Parking Violation: string (nullable = true)\n",
      " |-- Latitude: string (nullable = true)\n",
      " |-- Longitude: string (nullable = true)\n",
      " |-- Community Board: string (nullable = true)\n",
      " |-- Community Council : string (nullable = true)\n",
      " |-- Census Tract: string (nullable = true)\n",
      " |-- BIN: string (nullable = true)\n",
      " |-- BBL: string (nullable = true)\n",
      " |-- NTA: string (nullable = true)\n",
      "\n"
     ]
    }
   ],
   "source": [
    "time_df = spark.read.option(\"header\",True) \\\n",
    "    .csv(\"../parking.csv\")\n",
    "print('Number of rows in raw data:', time_df.count())\n",
    "time_df.show(10)\n",
    "time_df.printSchema()"
   ]
  },
  {
   "cell_type": "code",
   "execution_count": 10,
   "id": "c7c75d22",
   "metadata": {},
   "outputs": [
    {
     "name": "stdout",
     "output_type": "stream",
     "text": [
      "root\n",
      " |-- Summons Number: string (nullable = true)\n",
      " |-- Plate ID: string (nullable = true)\n",
      " |-- Registration State: string (nullable = true)\n",
      " |-- Plate Type: string (nullable = true)\n",
      " |-- Issue Date: string (nullable = true)\n",
      " |-- Violation Code: string (nullable = true)\n",
      " |-- Vehicle Body Type: string (nullable = true)\n",
      " |-- Vehicle Make: string (nullable = true)\n",
      " |-- Issuing Agency: string (nullable = true)\n",
      " |-- Street Code1: string (nullable = true)\n",
      " |-- Street Code2: string (nullable = true)\n",
      " |-- Street Code3: string (nullable = true)\n",
      " |-- Vehicle Expiration Date: string (nullable = true)\n",
      " |-- Violation Location: string (nullable = true)\n",
      " |-- Violation Precinct: string (nullable = true)\n",
      " |-- Issuer Precinct: string (nullable = true)\n",
      " |-- Issuer Code: string (nullable = true)\n",
      " |-- Issuer Command: string (nullable = true)\n",
      " |-- Issuer Squad: string (nullable = true)\n",
      " |-- Violation Time: string (nullable = true)\n",
      " |-- Time First Observed: string (nullable = true)\n",
      " |-- Violation County: string (nullable = true)\n",
      " |-- Violation In Front Of Or Opposite: string (nullable = true)\n",
      " |-- House Number: string (nullable = true)\n",
      " |-- Street Name: string (nullable = true)\n",
      " |-- Intersecting Street: string (nullable = true)\n",
      " |-- Date First Observed: string (nullable = true)\n",
      " |-- Law Section: string (nullable = true)\n",
      " |-- Sub Division: string (nullable = true)\n",
      " |-- Violation Legal Code: string (nullable = true)\n",
      " |-- Days Parking In Effect    : string (nullable = true)\n",
      " |-- From Hours In Effect: string (nullable = true)\n",
      " |-- To Hours In Effect: string (nullable = true)\n",
      " |-- Vehicle Color: string (nullable = true)\n",
      " |-- Unregistered Vehicle?: string (nullable = true)\n",
      " |-- Vehicle Year: string (nullable = true)\n",
      " |-- Meter Number: string (nullable = true)\n",
      " |-- Feet From Curb: string (nullable = true)\n",
      " |-- Violation Post Code: string (nullable = true)\n",
      " |-- Violation Description: string (nullable = true)\n",
      " |-- No Standing or Stopping Violation: string (nullable = true)\n",
      " |-- Hydrant Violation: string (nullable = true)\n",
      " |-- Double Parking Violation: string (nullable = true)\n",
      " |-- Latitude: string (nullable = true)\n",
      " |-- Longitude: string (nullable = true)\n",
      " |-- Community Board: string (nullable = true)\n",
      " |-- Community Council : string (nullable = true)\n",
      " |-- Census Tract: string (nullable = true)\n",
      "\n"
     ]
    }
   ],
   "source": [
    "#dropping the last three columns\n",
    "col_drop=[\"BIN\",\"BBL\",\"NTA\"]\n",
    "for col in col_drop:\n",
    "    time_df=time_df. drop(col)\n",
    "\n",
    "#printing new schema\n",
    "time_df.printSchema()\n",
    "# time_df.count()"
   ]
  },
  {
   "cell_type": "code",
   "execution_count": 11,
   "id": "f2f0f6b9",
   "metadata": {},
   "outputs": [
    {
     "name": "stdout",
     "output_type": "stream",
     "text": [
      "root\n",
      " |-- Summons Number: string (nullable = true)\n",
      " |-- Plate ID: string (nullable = true)\n",
      " |-- Registration State: string (nullable = true)\n",
      " |-- Plate Type: string (nullable = true)\n",
      " |-- Date: string (nullable = true)\n",
      " |-- Violation Code: string (nullable = true)\n",
      " |-- Vehicle Body Type: string (nullable = true)\n",
      " |-- Vehicle Make: string (nullable = true)\n",
      " |-- Issuing Agency: string (nullable = true)\n",
      " |-- Street Code1: string (nullable = true)\n",
      " |-- Street Code2: string (nullable = true)\n",
      " |-- Street Code3: string (nullable = true)\n",
      " |-- Vehicle Expiration Date: string (nullable = true)\n",
      " |-- Violation Location: string (nullable = true)\n",
      " |-- Violation Precinct: string (nullable = true)\n",
      " |-- Issuer Precinct: string (nullable = true)\n",
      " |-- Issuer Code: string (nullable = true)\n",
      " |-- Issuer Command: string (nullable = true)\n",
      " |-- Issuer Squad: string (nullable = true)\n",
      " |-- Violation Time: string (nullable = true)\n",
      " |-- Time First Observed: string (nullable = true)\n",
      " |-- Violation County: string (nullable = true)\n",
      " |-- Violation In Front Of Or Opposite: string (nullable = true)\n",
      " |-- House Number: string (nullable = true)\n",
      " |-- Street Name: string (nullable = true)\n",
      " |-- Intersecting Street: string (nullable = true)\n",
      " |-- Date First Observed: string (nullable = true)\n",
      " |-- Law Section: string (nullable = true)\n",
      " |-- Sub Division: string (nullable = true)\n",
      " |-- Violation Legal Code: string (nullable = true)\n",
      " |-- Days Parking In Effect    : string (nullable = true)\n",
      " |-- From Hours In Effect: string (nullable = true)\n",
      " |-- To Hours In Effect: string (nullable = true)\n",
      " |-- Vehicle Color: string (nullable = true)\n",
      " |-- Unregistered Vehicle?: string (nullable = true)\n",
      " |-- Vehicle Year: string (nullable = true)\n",
      " |-- Meter Number: string (nullable = true)\n",
      " |-- Feet From Curb: string (nullable = true)\n",
      " |-- Violation Post Code: string (nullable = true)\n",
      " |-- Violation Description: string (nullable = true)\n",
      " |-- No Standing or Stopping Violation: string (nullable = true)\n",
      " |-- Hydrant Violation: string (nullable = true)\n",
      " |-- Double Parking Violation: string (nullable = true)\n",
      " |-- Latitude: string (nullable = true)\n",
      " |-- Longitude: string (nullable = true)\n",
      " |-- Community Board: string (nullable = true)\n",
      " |-- Community Council : string (nullable = true)\n",
      " |-- Census Tract: string (nullable = true)\n",
      "\n"
     ]
    }
   ],
   "source": [
    "time_df = time_df.withColumnRenamed(\"Issue Date\", \"Date\")\n",
    "time_df.printSchema()"
   ]
  },
  {
   "cell_type": "markdown",
   "id": "23a77624",
   "metadata": {},
   "source": [
    "# Merging time series dataset with stocks dataset "
   ]
  },
  {
   "cell_type": "code",
   "execution_count": 12,
   "id": "8beee253",
   "metadata": {},
   "outputs": [
    {
     "name": "stdout",
     "output_type": "stream",
     "text": [
      "+----------+-------+-------+------+--------------------+--------------+--------+------------------+----------+--------------+-----------------+------------+--------------+------------+------------+------------+-----------------------+------------------+------------------+---------------+-----------+--------------+------------+--------------+-------------------+----------------+---------------------------------+------------+------------+--------------------+--------------------+-----------+------------+--------------------+--------------------------+--------------------+------------------+-------------+---------------------+------------+------------+--------------+-------------------+---------------------+---------------------------------+-----------------+------------------------+--------+---------+---------------+------------------+------------+\n",
      "|      Date|  Price| Volume|Number|                Name|Summons Number|Plate ID|Registration State|Plate Type|Violation Code|Vehicle Body Type|Vehicle Make|Issuing Agency|Street Code1|Street Code2|Street Code3|Vehicle Expiration Date|Violation Location|Violation Precinct|Issuer Precinct|Issuer Code|Issuer Command|Issuer Squad|Violation Time|Time First Observed|Violation County|Violation In Front Of Or Opposite|House Number| Street Name| Intersecting Street| Date First Observed|Law Section|Sub Division|Violation Legal Code|Days Parking In Effect    |From Hours In Effect|To Hours In Effect|Vehicle Color|Unregistered Vehicle?|Vehicle Year|Meter Number|Feet From Curb|Violation Post Code|Violation Description|No Standing or Stopping Violation|Hydrant Violation|Double Parking Violation|Latitude|Longitude|Community Board|Community Council |Census Tract|\n",
      "+----------+-------+-------+------+--------------------+--------------+--------+------------------+----------+--------------+-----------------+------------+--------------+------------+------------+------------+-----------------------+------------------+------------------+---------------+-----------+--------------+------------+--------------+-------------------+----------------+---------------------------------+------------+------------+--------------------+--------------------+-----------+------------+--------------------+--------------------------+--------------------+------------------+-------------+---------------------+------------+------------+--------------+-------------------+---------------------+---------------------------------+-----------------+------------------------+--------+---------+---------------+------------------+------------+\n",
      "|05/08/2015|28300.0|1736098| 12041|Asien--Australien...|    7508746788| 83546JU|                NY|       COM|            46|              VAN|        FORD|             T|       42820|       29220|       27360|   01/01/20160531 12...|              0052|                52|             52|     362219|          T201|           B|         1257P|              1200P|              BX|                                F|        2467|  Jerome Ave|                null|01/01/20150508 12...|        408|          F1|                null|                      null|                null|              null|        BLACK|                 null|        2006|        null|             0|               02 2| 46B-Double Parkin...|                             null|             null|                    null|    null|     null|           null|              null|        null|\n",
      "|05/08/2015|28300.0|1736098| 12041|Asien--Australien...|    1380810164| GUV7627|                NY|       PAS|            71|              SDN|       PONTI|             P|           0|       40404|       40404|   01/01/20170205 12...|              0047|                47|             47|     931377|          0047|        0000|         0500P|               null|              BX|                                F|        1981|SCHIEFLIN RD|                null|01/05/0001 12:00:...|        408|          J3|                null|                   BBBBBBB|                 ALL|               ALL|        WHITE|                    0|        2003|           -|             0|               null|                 null|                             null|             null|                    null|    null|     null|           null|              null|        null|\n",
      "|05/08/2015|28300.0|1736098| 12041|Asien--Australien...|    7692762510| 61686JC|                NY|       COM|            71|              VAN|        FORD|             T|        5580|       10180|       10230|   01/01/20170307 12...|              0072|                72|             72|     361032|          T302|           K|         0419P|               null|               K|                                F|        7210|     5th Ave|                null|01/05/0001 12:00:...|        408|          j6|                null|                   YYYYYYY|                null|              null|        WHITE|                 null|        2006|        null|             0|               21 3| 71A-Insp Sticker ...|                             null|             null|                    null|    null|     null|           null|              null|        null|\n",
      "|05/08/2015|28300.0|1736098| 12041|Asien--Australien...|    8002364156|  1AHKFO|                CT|       PAS|            40|             4DSD|       MITSU|             T|       11010|       34350|       34370|   01/01/20150088 12...|              0034|                34|             34|     340095|          T800|          A2|         0202A|               null|              NY|                                F|         335|    10th Ave|                null|01/05/0001 12:00:...|        408|          e2|                null|                   YYYYYYY|                null|              null|         GREY|                 null|           0|        null|             6|               C 77|      40-Fire Hydrant|                             null|             null|                    null|    null|     null|           null|              null|        null|\n",
      "|05/08/2015|28300.0|1736098| 12041|Asien--Australien...|    8029153405| OL5091J|                NJ|       PAS|            14|             4DSD|       CADIL|             T|       34630|       10510|       13610|   01/01/88888888 12...|              0018|                18|             18|     361116|          T106|           L|         0339P|               null|              NY|                                O|         147|   W 43rd St|                null|01/05/0001 12:00:...|        408|           c|                null|                   YYYYYYY|                null|              null|        BLACK|                 null|           0|        null|             0|                104|       14-No Standing|                             null|             null|                    null|    null|     null|           null|              null|        null|\n",
      "|05/08/2015|28300.0|1736098| 12041|Asien--Australien...|    8036012467|  A53EPY|                NJ|       PAS|            37|             SUBN|       HONDA|             T|       27530|           0|           0|   01/01/88888888 12...|              0084|                84|             84|     337779|          T301|           A|         0104P|              1256P|               K|                                I|           E|  Clinton St|10ft N/of Montague S|01/05/0001 12:00:...|        408|          h1|                null|                         Y|               0800A|             0700P|        BLACK|                 null|           0|    301-3530|             0|               02 3| 37-Expired Muni M...|                             null|             null|                    null|    null|     null|           null|              null|        null|\n",
      "|05/08/2015|28300.0|1736098| 12041|Asien--Australien...|    7184779174| FHE3602|                NY|       PAS|            21|             4DSD|       HONDA|             T|       12690|       13990|       14240|   01/01/20170124 12...|               104|               104|            104|     358595|          T401|           K|         1106A|               null|               Q|                                F|       67-15|     60th St|                null|01/05/0001 12:00:...|        408|          d1|                null|                         Y|               1100A|             1230A|           BK|                 null|        2010|        null|             0|                 70| 21-No Parking (st...|                             null|             null|                    null|    null|     null|           null|              null|        null|\n",
      "|05/08/2015|28300.0|1736098| 12041|Asien--Australien...|    8031520604|  F34DDG|                NJ|       PAS|            21|             4DSD|       MAZDA|             T|       19010|       10110|       10010|   01/01/88888888 12...|              0023|                23|             23|     345536|          T503|          B1|         1144A|               null|              NY|                                O|         315|  E 102nd St|                null|01/05/0001 12:00:...|        408|          d1|                null|                      Y  Y|               1130A|             0100P|        BLACK|                 null|           0|        null|             0|               20 7| 21-No Parking (st...|                             null|             null|                    null|    null|     null|           null|              null|        null|\n",
      "|05/08/2015|28300.0|1736098| 12041|Asien--Australien...|    8040850563| 80985MA|                NY|       COM|            37|              VAN|       ME/BE|             T|       13610|           0|           0|   01/01/20150930 12...|              0020|                20|             20|     361371|          T103|           J|         1139A|              1056A|              NY|                                I|           W|    Broadway| 40ft S/of W 76th St|01/05/0001 12:00:...|        408|          h1|                null|                         Y|               0830A|             1000P|           BL|                 null|        2013|    108-3057|             0|               48 7| 37-Expired Muni M...|                             null|             null|                    null|    null|     null|           null|              null|        null|\n",
      "|05/08/2015|28300.0|1736098| 12041|Asien--Australien...|    8022829961| FCJ4551|                NY|       PAS|            21|             SUBN|       CHRYS|             T|       14180|       35730|       35780|   01/01/20160816 12...|              0070|                70|             70|     357334|          T302|           A|         0844A|               null|               K|                                F|        2117|    Avenue L|                null|01/05/0001 12:00:...|        408|          d1|                null|                         Y|               0830A|             1000A|           GY|                 null|        2013|        null|             0|               05 3| 21-No Parking (st...|                             null|             null|                    null|    null|     null|           null|              null|        null|\n",
      "+----------+-------+-------+------+--------------------+--------------+--------+------------------+----------+--------------+-----------------+------------+--------------+------------+------------+------------+-----------------------+------------------+------------------+---------------+-----------+--------------+------------+--------------+-------------------+----------------+---------------------------------+------------+------------+--------------------+--------------------+-----------+------------+--------------------+--------------------------+--------------------+------------------+-------------+---------------------+------------+------------+--------------+-------------------+---------------------+---------------------------------+-----------------+------------------------+--------+---------+---------------+------------------+------------+\n",
      "only showing top 10 rows\n",
      "\n"
     ]
    }
   ],
   "source": [
    "df = raw_df.join(time_df,['Date'],how='inner').distinct()\n",
    "df.show(10)"
   ]
  },
  {
   "cell_type": "code",
   "execution_count": 13,
   "id": "78904c31",
   "metadata": {},
   "outputs": [
    {
     "name": "stdout",
     "output_type": "stream",
     "text": [
      "root\n",
      " |-- Date: string (nullable = true)\n",
      " |-- Price: double (nullable = true)\n",
      " |-- Volume: string (nullable = true)\n",
      " |-- Number: string (nullable = true)\n",
      " |-- Name: string (nullable = true)\n",
      " |-- Summons Number: string (nullable = true)\n",
      " |-- Plate ID: string (nullable = true)\n",
      " |-- Registration State: string (nullable = true)\n",
      " |-- Plate Type: string (nullable = true)\n",
      " |-- Violation Code: string (nullable = true)\n",
      " |-- Vehicle Body Type: string (nullable = true)\n",
      " |-- Vehicle Make: string (nullable = true)\n",
      " |-- Issuing Agency: string (nullable = true)\n",
      " |-- Street Code1: string (nullable = true)\n",
      " |-- Street Code2: string (nullable = true)\n",
      " |-- Street Code3: string (nullable = true)\n",
      " |-- Vehicle Expiration Date: string (nullable = true)\n",
      " |-- Violation Location: string (nullable = true)\n",
      " |-- Violation Precinct: string (nullable = true)\n",
      " |-- Issuer Precinct: string (nullable = true)\n",
      " |-- Issuer Code: string (nullable = true)\n",
      " |-- Issuer Command: string (nullable = true)\n",
      " |-- Issuer Squad: string (nullable = true)\n",
      " |-- Violation Time: string (nullable = true)\n",
      " |-- Time First Observed: string (nullable = true)\n",
      " |-- Violation County: string (nullable = true)\n",
      " |-- Violation In Front Of Or Opposite: string (nullable = true)\n",
      " |-- House Number: string (nullable = true)\n",
      " |-- Street Name: string (nullable = true)\n",
      " |-- Intersecting Street: string (nullable = true)\n",
      " |-- Date First Observed: string (nullable = true)\n",
      " |-- Law Section: string (nullable = true)\n",
      " |-- Sub Division: string (nullable = true)\n",
      " |-- Violation Legal Code: string (nullable = true)\n",
      " |-- Days Parking In Effect    : string (nullable = true)\n",
      " |-- From Hours In Effect: string (nullable = true)\n",
      " |-- To Hours In Effect: string (nullable = true)\n",
      " |-- Vehicle Color: string (nullable = true)\n",
      " |-- Unregistered Vehicle?: string (nullable = true)\n",
      " |-- Vehicle Year: string (nullable = true)\n",
      " |-- Meter Number: string (nullable = true)\n",
      " |-- Feet From Curb: string (nullable = true)\n",
      " |-- Violation Post Code: string (nullable = true)\n",
      " |-- Violation Description: string (nullable = true)\n",
      " |-- No Standing or Stopping Violation: string (nullable = true)\n",
      " |-- Hydrant Violation: string (nullable = true)\n",
      " |-- Double Parking Violation: string (nullable = true)\n",
      " |-- Latitude: string (nullable = true)\n",
      " |-- Longitude: string (nullable = true)\n",
      " |-- Community Board: string (nullable = true)\n",
      " |-- Community Council : string (nullable = true)\n",
      " |-- Census Tract: string (nullable = true)\n",
      "\n"
     ]
    }
   ],
   "source": [
    "df.printSchema()"
   ]
  },
  {
   "cell_type": "code",
   "execution_count": 14,
   "id": "fedef039",
   "metadata": {},
   "outputs": [
    {
     "name": "stdout",
     "output_type": "stream",
     "text": [
      "+----+-----+------+------+----+--------------+--------+------------------+----------+--------------+-----------------+------------+--------------+------------+------------+------------+-----------------------+------------------+------------------+---------------+-----------+--------------+------------+--------------+-------------------+----------------+---------------------------------+------------+-----------+-------------------+-------------------+-----------+------------+--------------------+--------------------------+--------------------+------------------+-------------+---------------------+------------+------------+--------------+-------------------+---------------------+---------------------------------+-----------------+------------------------+--------+---------+---------------+------------------+------------+\n",
      "|Date|Price|Volume|Number|Name|Summons Number|Plate ID|Registration State|Plate Type|Violation Code|Vehicle Body Type|Vehicle Make|Issuing Agency|Street Code1|Street Code2|Street Code3|Vehicle Expiration Date|Violation Location|Violation Precinct|Issuer Precinct|Issuer Code|Issuer Command|Issuer Squad|Violation Time|Time First Observed|Violation County|Violation In Front Of Or Opposite|House Number|Street Name|Intersecting Street|Date First Observed|Law Section|Sub Division|Violation Legal Code|Days Parking In Effect    |From Hours In Effect|To Hours In Effect|Vehicle Color|Unregistered Vehicle?|Vehicle Year|Meter Number|Feet From Curb|Violation Post Code|Violation Description|No Standing or Stopping Violation|Hydrant Violation|Double Parking Violation|Latitude|Longitude|Community Board|Community Council |Census Tract|\n",
      "+----+-----+------+------+----+--------------+--------+------------------+----------+--------------+-----------------+------------+--------------+------------+------------+------------+-----------------------+------------------+------------------+---------------+-----------+--------------+------------+--------------+-------------------+----------------+---------------------------------+------------+-----------+-------------------+-------------------+-----------+------------+--------------------+--------------------------+--------------------+------------------+-------------+---------------------+------------+------------+--------------+-------------------+---------------------+---------------------------------+-----------------+------------------------+--------+---------+---------------+------------------+------------+\n",
      "+----+-----+------+------+----+--------------+--------+------------------+----------+--------------+-----------------+------------+--------------+------------+------------+------------+-----------------------+------------------+------------------+---------------+-----------+--------------+------------+--------------+-------------------+----------------+---------------------------------+------------+-----------+-------------------+-------------------+-----------+------------+--------------------+--------------------------+--------------------+------------------+-------------+---------------------+------------+------------+--------------+-------------------+---------------------+---------------------------------+-----------------+------------------------+--------+---------+---------------+------------------+------------+\n",
      "\n"
     ]
    }
   ],
   "source": [
    "df.na.drop(how=\"any\").show(truncate=False)"
   ]
  },
  {
   "cell_type": "code",
   "execution_count": 15,
   "id": "84c1957d",
   "metadata": {},
   "outputs": [
    {
     "name": "stdout",
     "output_type": "stream",
     "text": [
      "+----------+-------+-------+------+--------------------+--------------+--------+------------------+----------+--------------+-----------------+------------+--------------+------------+------------+------------+-----------------------+------------------+------------------+---------------+-----------+--------------+------------+--------------+-------------------+----------------+---------------------------------+------------+------------+--------------------+--------------------+-----------+------------+--------------------+--------------------------+--------------------+------------------+-------------+---------------------+------------+------------+--------------+-------------------+---------------------+---------------------------------+-----------------+------------------------+--------+---------+---------------+------------------+------------+\n",
      "|      Date|  Price| Volume|Number|                Name|Summons Number|Plate ID|Registration State|Plate Type|Violation Code|Vehicle Body Type|Vehicle Make|Issuing Agency|Street Code1|Street Code2|Street Code3|Vehicle Expiration Date|Violation Location|Violation Precinct|Issuer Precinct|Issuer Code|Issuer Command|Issuer Squad|Violation Time|Time First Observed|Violation County|Violation In Front Of Or Opposite|House Number| Street Name| Intersecting Street| Date First Observed|Law Section|Sub Division|Violation Legal Code|Days Parking In Effect    |From Hours In Effect|To Hours In Effect|Vehicle Color|Unregistered Vehicle?|Vehicle Year|Meter Number|Feet From Curb|Violation Post Code|Violation Description|No Standing or Stopping Violation|Hydrant Violation|Double Parking Violation|Latitude|Longitude|Community Board|Community Council |Census Tract|\n",
      "+----------+-------+-------+------+--------------------+--------------+--------+------------------+----------+--------------+-----------------+------------+--------------+------------+------------+------------+-----------------------+------------------+------------------+---------------+-----------+--------------+------------+--------------+-------------------+----------------+---------------------------------+------------+------------+--------------------+--------------------+-----------+------------+--------------------+--------------------------+--------------------+------------------+-------------+---------------------+------------+------------+--------------+-------------------+---------------------+---------------------------------+-----------------+------------------------+--------+---------+---------------+------------------+------------+\n",
      "|05/08/2015|28300.0|1736098| 12041|Asien--Australien...|    7508746788| 83546JU|                NY|       COM|            46|              VAN|        FORD|             T|       42820|       29220|       27360|   01/01/20160531 12...|              0052|                52|             52|     362219|          T201|           B|         1257P|              1200P|              BX|                                F|        2467|  Jerome Ave|                null|01/01/20150508 12...|        408|          F1|                null|                      null|                null|              null|        BLACK|                 null|        2006|        null|             0|               02 2| 46B-Double Parkin...|                             null|             null|                    null|    null|     null|           null|              null|        null|\n",
      "|05/08/2015|28300.0|1736098| 12041|Asien--Australien...|    1380810164| GUV7627|                NY|       PAS|            71|              SDN|       PONTI|             P|           0|       40404|       40404|   01/01/20170205 12...|              0047|                47|             47|     931377|          0047|        0000|         0500P|               null|              BX|                                F|        1981|SCHIEFLIN RD|                null|01/05/0001 12:00:...|        408|          J3|                null|                   BBBBBBB|                 ALL|               ALL|        WHITE|                    0|        2003|           -|             0|               null|                 null|                             null|             null|                    null|    null|     null|           null|              null|        null|\n",
      "|05/08/2015|28300.0|1736098| 12041|Asien--Australien...|    7692762510| 61686JC|                NY|       COM|            71|              VAN|        FORD|             T|        5580|       10180|       10230|   01/01/20170307 12...|              0072|                72|             72|     361032|          T302|           K|         0419P|               null|               K|                                F|        7210|     5th Ave|                null|01/05/0001 12:00:...|        408|          j6|                null|                   YYYYYYY|                null|              null|        WHITE|                 null|        2006|        null|             0|               21 3| 71A-Insp Sticker ...|                             null|             null|                    null|    null|     null|           null|              null|        null|\n",
      "|05/08/2015|28300.0|1736098| 12041|Asien--Australien...|    8002364156|  1AHKFO|                CT|       PAS|            40|             4DSD|       MITSU|             T|       11010|       34350|       34370|   01/01/20150088 12...|              0034|                34|             34|     340095|          T800|          A2|         0202A|               null|              NY|                                F|         335|    10th Ave|                null|01/05/0001 12:00:...|        408|          e2|                null|                   YYYYYYY|                null|              null|         GREY|                 null|           0|        null|             6|               C 77|      40-Fire Hydrant|                             null|             null|                    null|    null|     null|           null|              null|        null|\n",
      "|05/08/2015|28300.0|1736098| 12041|Asien--Australien...|    8029153405| OL5091J|                NJ|       PAS|            14|             4DSD|       CADIL|             T|       34630|       10510|       13610|   01/01/88888888 12...|              0018|                18|             18|     361116|          T106|           L|         0339P|               null|              NY|                                O|         147|   W 43rd St|                null|01/05/0001 12:00:...|        408|           c|                null|                   YYYYYYY|                null|              null|        BLACK|                 null|           0|        null|             0|                104|       14-No Standing|                             null|             null|                    null|    null|     null|           null|              null|        null|\n",
      "|05/08/2015|28300.0|1736098| 12041|Asien--Australien...|    8036012467|  A53EPY|                NJ|       PAS|            37|             SUBN|       HONDA|             T|       27530|           0|           0|   01/01/88888888 12...|              0084|                84|             84|     337779|          T301|           A|         0104P|              1256P|               K|                                I|           E|  Clinton St|10ft N/of Montague S|01/05/0001 12:00:...|        408|          h1|                null|                         Y|               0800A|             0700P|        BLACK|                 null|           0|    301-3530|             0|               02 3| 37-Expired Muni M...|                             null|             null|                    null|    null|     null|           null|              null|        null|\n",
      "|05/08/2015|28300.0|1736098| 12041|Asien--Australien...|    7184779174| FHE3602|                NY|       PAS|            21|             4DSD|       HONDA|             T|       12690|       13990|       14240|   01/01/20170124 12...|               104|               104|            104|     358595|          T401|           K|         1106A|               null|               Q|                                F|       67-15|     60th St|                null|01/05/0001 12:00:...|        408|          d1|                null|                         Y|               1100A|             1230A|           BK|                 null|        2010|        null|             0|                 70| 21-No Parking (st...|                             null|             null|                    null|    null|     null|           null|              null|        null|\n",
      "|05/08/2015|28300.0|1736098| 12041|Asien--Australien...|    8031520604|  F34DDG|                NJ|       PAS|            21|             4DSD|       MAZDA|             T|       19010|       10110|       10010|   01/01/88888888 12...|              0023|                23|             23|     345536|          T503|          B1|         1144A|               null|              NY|                                O|         315|  E 102nd St|                null|01/05/0001 12:00:...|        408|          d1|                null|                      Y  Y|               1130A|             0100P|        BLACK|                 null|           0|        null|             0|               20 7| 21-No Parking (st...|                             null|             null|                    null|    null|     null|           null|              null|        null|\n",
      "|05/08/2015|28300.0|1736098| 12041|Asien--Australien...|    8040850563| 80985MA|                NY|       COM|            37|              VAN|       ME/BE|             T|       13610|           0|           0|   01/01/20150930 12...|              0020|                20|             20|     361371|          T103|           J|         1139A|              1056A|              NY|                                I|           W|    Broadway| 40ft S/of W 76th St|01/05/0001 12:00:...|        408|          h1|                null|                         Y|               0830A|             1000P|           BL|                 null|        2013|    108-3057|             0|               48 7| 37-Expired Muni M...|                             null|             null|                    null|    null|     null|           null|              null|        null|\n",
      "|05/08/2015|28300.0|1736098| 12041|Asien--Australien...|    8022829961| FCJ4551|                NY|       PAS|            21|             SUBN|       CHRYS|             T|       14180|       35730|       35780|   01/01/20160816 12...|              0070|                70|             70|     357334|          T302|           A|         0844A|               null|               K|                                F|        2117|    Avenue L|                null|01/05/0001 12:00:...|        408|          d1|                null|                         Y|               0830A|             1000A|           GY|                 null|        2013|        null|             0|               05 3| 21-No Parking (st...|                             null|             null|                    null|    null|     null|           null|              null|        null|\n",
      "+----------+-------+-------+------+--------------------+--------------+--------+------------------+----------+--------------+-----------------+------------+--------------+------------+------------+------------+-----------------------+------------------+------------------+---------------+-----------+--------------+------------+--------------+-------------------+----------------+---------------------------------+------------+------------+--------------------+--------------------+-----------+------------+--------------------+--------------------------+--------------------+------------------+-------------+---------------------+------------+------------+--------------+-------------------+---------------------+---------------------------------+-----------------+------------------------+--------+---------+---------------+------------------+------------+\n",
      "only showing top 10 rows\n",
      "\n"
     ]
    }
   ],
   "source": [
    "df.show(10)"
   ]
  },
  {
   "cell_type": "code",
   "execution_count": 16,
   "id": "4d525a1d",
   "metadata": {},
   "outputs": [],
   "source": [
    "#df.count() # Result = 60710470"
   ]
  },
  {
   "cell_type": "code",
   "execution_count": 58,
   "id": "b51cb746",
   "metadata": {},
   "outputs": [],
   "source": [
    "import numpy as np\n",
    "from timeit import default_timer as timer\n",
    "\n",
    "def aggregate_avg(Y1, Y2):\n",
    "    start = timer()\n",
    "    Y = []\n",
    "    \n",
    "    if len(Y1) != len (Y2):\n",
    "        print(\"Arrays have different lengths!\")\n",
    "    else:\n",
    "        for i in range(len(Y1)):\n",
    "            Y.append(np.mean([Y1[i], Y2[i]]))\n",
    "    end = timer()\n",
    "    print(\"Time Agg avg: \", end - start)\n",
    "    return Y\n",
    "\n",
    "def aggregate_min(Y1, Y2):\n",
    "    start = timer()\n",
    "    Y = []\n",
    "    \n",
    "    if len(Y1) != len (Y2):\n",
    "        print(\"Arrays have different lengths!\")\n",
    "    else:\n",
    "        Y = np.minimum(Y1, Y2)\n",
    "    end = timer()\n",
    "    print(\"Time Agg min: \", end - start)\n",
    "    return Y\n",
    "\n",
    "def aggregate_max(Y1, Y2):\n",
    "    start = timer()\n",
    "    Y = []\n",
    "    \n",
    "    if len(Y1) != len (Y2):\n",
    "        print(\"Arrays have different lengths!\")\n",
    "    else:\n",
    "        Y = np.maximum(Y1, Y2)\n",
    "    end = timer()\n",
    "    print(\"Time Agg max: \", end - start)\n",
    "    return Y\n",
    "\n",
    "def sum_of_multiplications(X, Y):\n",
    "    sum_XY = 0\n",
    "    if len(X) != len (Y):\n",
    "        print(\"Arrays have different lengths!\")\n",
    "    else:\n",
    "        for i in range(len(X)):\n",
    "            mult = X[i] * Y[i]\n",
    "            sum_XY = sum_XY + mult\n",
    "    return sum_XY\n",
    "\n",
    "def is_similar(a, b, tau):\n",
    "    if a < b:\n",
    "        x = a\n",
    "        y = b\n",
    "    else:\n",
    "        y = a\n",
    "        x = b\n",
    "    x_squared = x**2\n",
    "    y_squared = y**2\n",
    "    simi_score = x_squared / math.sqrt(x_squared * y_squared)\n",
    "    if simi_score > tau:\n",
    "        return True\n",
    "    else: \n",
    "        return False\n",
    "\n",
    "        "
   ]
  },
  {
   "cell_type": "code",
   "execution_count": 86,
   "id": "be700526",
   "metadata": {},
   "outputs": [
    {
     "name": "stdout",
     "output_type": "stream",
     "text": [
      "Time Agg avg:  0.001473199999963981\n"
     ]
    },
    {
     "data": {
      "text/plain": [
       "0.3100577357662088"
      ]
     },
     "execution_count": 86,
     "metadata": {},
     "output_type": "execute_result"
    }
   ],
   "source": [
    "import math\n",
    "# X = [3, 1, 4, 2, 3, 1, 4, 2, 3, 1, 4, 2, 3, 1, 4, 2, 3, 1, 4, 2, 3, 1, 4, 2]\n",
    "# Y1 = [1, 2, 1, 6, 1, 2, 1, 6, 1, 2, 1, 6, 1, 2, 1, 6, 1, 2, 1, 6, 1, 2, 1, 6]\n",
    "# Y2 = [3, 4, 1, 0, 3, 4, 1, 0, 3, 4, 1, 0, 3, 4, 1, 0, 3, 4, 1, 0, 3, 4, 1, 0]\n",
    "X = X_df_array\n",
    "Y1 = np.random.randint(5, 10, 100)\n",
    "Y2 = np.random.randint(5, 10, 100)\n",
    "Y_prime = aggregate_avg(Y1, Y2)\n",
    "\n",
    "sum_X_YY = sum_of_multiplications(X, Y_prime)\n",
    "sum_X_squared = sum_of_multiplications(X, X)\n",
    "sum_Y_squared = sum_of_multiplications(Y_prime, Y_prime)\n",
    "\n",
    "cos_X_YY = sum_X_YY / (math.sqrt(sum_X_squared) * math.sqrt(sum_Y_squared))\n",
    "\n",
    "cos_X_YY"
   ]
  },
  {
   "cell_type": "code",
   "execution_count": 87,
   "id": "f407f69f",
   "metadata": {},
   "outputs": [],
   "source": [
    "threshold = 0.1\n",
    "tau_avg = cos_X_YY + threshold\n",
    "tau_min = cos_X_YY + threshold\n",
    "tau_max = cos_X_YY + threshold"
   ]
  },
  {
   "cell_type": "code",
   "execution_count": 88,
   "id": "da0c1e8c",
   "metadata": {},
   "outputs": [
    {
     "name": "stdout",
     "output_type": "stream",
     "text": [
      "More than 20 results have been found\n"
     ]
    },
    {
     "data": {
      "text/plain": [
       "([15.09,\n",
       "  10.11,\n",
       "  11.3,\n",
       "  11.45,\n",
       "  11.76,\n",
       "  18.05,\n",
       "  18.78,\n",
       "  19.09,\n",
       "  7.13,\n",
       "  15.08,\n",
       "  10.35,\n",
       "  6.04,\n",
       "  7.055,\n",
       "  7.24875,\n",
       "  3.822,\n",
       "  6.19,\n",
       "  8.04,\n",
       "  7.3,\n",
       "  4.6,\n",
       "  12.19,\n",
       "  10.64],\n",
       " [8.0,\n",
       "  5.5,\n",
       "  7.5,\n",
       "  7.5,\n",
       "  7.0,\n",
       "  8.0,\n",
       "  8.0,\n",
       "  8.0,\n",
       "  8.5,\n",
       "  6.5,\n",
       "  7.0,\n",
       "  9.0,\n",
       "  7.5,\n",
       "  6.5,\n",
       "  7.0,\n",
       "  8.0,\n",
       "  8.5,\n",
       "  5.5,\n",
       "  8.5,\n",
       "  9.0,\n",
       "  7.5])"
      ]
     },
     "execution_count": 88,
     "metadata": {},
     "output_type": "execute_result"
    }
   ],
   "source": [
    "X_results = []\n",
    "Y_results = []\n",
    "\n",
    "for i in range(len(X)):\n",
    "    if is_similar(X[i], Y_prime[i], tau_avg):\n",
    "        X_results.append(X[i])\n",
    "        Y_results.append(Y_prime[i])\n",
    "        \n",
    "    if len(X_results) > 20:\n",
    "        print(\"More than 20 results have been found\")\n",
    "        break;\n",
    "\n",
    "X_results, Y_results\n"
   ]
  },
  {
   "cell_type": "code",
   "execution_count": null,
   "id": "30504d90",
   "metadata": {},
   "outputs": [],
   "source": []
  }
 ],
 "metadata": {
  "kernelspec": {
   "display_name": "Python 3 (ipykernel)",
   "language": "python",
   "name": "python3"
  },
  "language_info": {
   "codemirror_mode": {
    "name": "ipython",
    "version": 3
   },
   "file_extension": ".py",
   "mimetype": "text/x-python",
   "name": "python",
   "nbconvert_exporter": "python",
   "pygments_lexer": "ipython3",
   "version": "3.9.7"
  }
 },
 "nbformat": 4,
 "nbformat_minor": 5
}
