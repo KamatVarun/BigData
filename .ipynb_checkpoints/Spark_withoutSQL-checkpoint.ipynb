{
 "cells": [
  {
   "cell_type": "markdown",
   "id": "e9a7582e",
   "metadata": {},
   "source": [
    "# Milestone 1 without SparkSQL - Group 18"
   ]
  },
  {
   "cell_type": "code",
   "execution_count": 1,
   "id": "4e43fa4b",
   "metadata": {},
   "outputs": [],
   "source": [
    "import pandas as pd\n",
    "\n",
    "import findspark\n",
    "findspark.init()\n",
    "from pyspark.sql import functions as sf\n",
    "from pyspark.sql.functions import when, col, trim, to_timestamp\n",
    "from pyspark.sql.types import IntegerType, StringType\n",
    "from pyspark.sql.functions import lead, lag\n",
    "from pyspark.sql.window import Window\n",
    "import pyspark.sql.functions as func\n",
    "from pyspark.sql.functions import udf\n",
    "import matplotlib.pyplot as plt\n",
    "import matplotlib as mp\n",
    "import numpy as np\n",
    "import pyspark\n",
    "from pyspark.sql import SparkSession\n",
    "\n",
    "spark = SparkSession.builder.getOrCreate()"
   ]
  },
  {
   "cell_type": "markdown",
   "id": "2dce9868",
   "metadata": {},
   "source": [
    "# Loading the Data"
   ]
  },
  {
   "cell_type": "code",
   "execution_count": 4,
   "id": "c23b4ba6",
   "metadata": {},
   "outputs": [
    {
     "name": "stdout",
     "output_type": "stream",
     "text": [
      "Number of rows in raw data: 38374197\n",
      "root\n",
      " |-- Dummy: string (nullable = true)\n",
      " |-- Date: string (nullable = true)\n",
      " |-- Price: double (nullable = true)\n",
      " |-- Volume: string (nullable = true)\n",
      "\n"
     ]
    }
   ],
   "source": [
    "raw_df = spark.read.option(\"header\",True) \\\n",
    "    .csv(\"../MS1.csv\",inferSchema=True).toDF(\n",
    "  \"Dummy\", \"Date\", \"Price\", \"Volume\"\n",
    ")\n",
    "print('Number of rows in raw data:', raw_df.count())\n",
    "\n",
    "raw_df.printSchema()"
   ]
  },
  {
   "cell_type": "markdown",
   "id": "e3f48366",
   "metadata": {},
   "source": [
    "# View the Data"
   ]
  },
  {
   "cell_type": "code",
   "execution_count": null,
   "id": "8c4fcf0e",
   "metadata": {},
   "outputs": [],
   "source": [
    "raw_df.show()"
   ]
  },
  {
   "cell_type": "markdown",
   "id": "032647ad",
   "metadata": {},
   "source": [
    "# Data Pre-processing"
   ]
  },
  {
   "cell_type": "code",
   "execution_count": null,
   "id": "7e060ed4",
   "metadata": {},
   "outputs": [],
   "source": [
    "from pyspark.sql.functions import split\n",
    "import pyspark.sql.functions as f\n",
    "raw_df=raw_df.withColumn(\"Number\", split(col(\"Dummy\"), \"[.]\").getItem(0)).withColumn(\"Name\", split(col(\"Dummy\"), \"[.]\").getItem(1))"
   ]
  },
  {
   "cell_type": "code",
   "execution_count": null,
   "id": "1dfc290b",
   "metadata": {},
   "outputs": [],
   "source": [
    "raw_df=raw_df.drop(raw_df.Dummy)\n"
   ]
  },
  {
   "cell_type": "code",
   "execution_count": null,
   "id": "36ce91fd",
   "metadata": {},
   "outputs": [],
   "source": [
    "raw_df.show(100)\n",
    "raw_df.count()"
   ]
  },
  {
   "cell_type": "code",
   "execution_count": null,
   "id": "6561986f",
   "metadata": {},
   "outputs": [],
   "source": [
    "raw_df"
   ]
  },
  {
   "cell_type": "code",
   "execution_count": null,
   "id": "16526f9f",
   "metadata": {},
   "outputs": [],
   "source": [
    "#delete missing values\n",
    "raw_df=raw_df.na.drop()\n",
    "raw_df.count()"
   ]
  },
  {
   "cell_type": "markdown",
   "id": "dc74abcb",
   "metadata": {},
   "source": [
    "# Loading Time Series Data"
   ]
  },
  {
   "cell_type": "code",
   "execution_count": null,
   "id": "62ffd608",
   "metadata": {},
   "outputs": [],
   "source": [
    "time_df = spark.read.option(\"header\",True) \\\n",
    "    .csv(\"parking.csv\")\n",
    "print('Number of rows in raw data:', time_df.count())\n",
    "time_df.show(10)\n",
    "time_df.printSchema()"
   ]
  },
  {
   "cell_type": "code",
   "execution_count": null,
   "id": "c7c75d22",
   "metadata": {},
   "outputs": [],
   "source": [
    "#dropping the last three columns\n",
    "col_drop=[\"BIN\",\"BBL\",\"NTA\"]\n",
    "for col in col_drop:\n",
    "    time_df=time_df. drop(col)\n",
    "\n",
    "#prinitng new schema\n",
    "time_df.printSchema()\n",
    "time_df.count()"
   ]
  },
  {
   "cell_type": "code",
   "execution_count": null,
   "id": "f2f0f6b9",
   "metadata": {},
   "outputs": [],
   "source": [
    "time_df = time_df.withColumnRenamed(\"Issue Date\", \"Date\")\n",
    "time_df.printSchema()"
   ]
  },
  {
   "cell_type": "markdown",
   "id": "23a77624",
   "metadata": {},
   "source": [
    "# Merging time series dataset with stocks dataset "
   ]
  },
  {
   "cell_type": "code",
   "execution_count": null,
   "id": "8beee253",
   "metadata": {},
   "outputs": [],
   "source": [
    "df = raw_df.join(time_df,['Date'],how='inner').distinct()\n",
    "df.show(10)"
   ]
  },
  {
   "cell_type": "code",
   "execution_count": null,
   "id": "78904c31",
   "metadata": {},
   "outputs": [],
   "source": [
    "df.printSchema()"
   ]
  },
  {
   "cell_type": "code",
   "execution_count": null,
   "id": "fedef039",
   "metadata": {},
   "outputs": [],
   "source": [
    "df.na.drop(how=\"any\").show(truncate=False)"
   ]
  },
  {
   "cell_type": "code",
   "execution_count": null,
   "id": "84c1957d",
   "metadata": {},
   "outputs": [],
   "source": [
    "df.show(10)"
   ]
  },
  {
   "cell_type": "code",
   "execution_count": null,
   "id": "4d525a1d",
   "metadata": {},
   "outputs": [],
   "source": [
    "df.count()"
   ]
  },
  {
   "cell_type": "code",
   "execution_count": 16,
   "id": "ab5624bd",
   "metadata": {},
   "outputs": [],
   "source": [
    "import numpy as np\n",
    "\n",
    "def aggregate_avg(Y1, Y2):\n",
    "    Y = []\n",
    "    \n",
    "    if len(Y1) != len (Y2):\n",
    "        print(\"Arrays have different lengths!\")\n",
    "    else:\n",
    "        for i in range(len(Y1)):\n",
    "            Y.append(np.mean([Y1[i], Y2[i]]))\n",
    "    \n",
    "    return Y\n",
    "\n",
    "def aggregate_min(Y1, Y2):\n",
    "    Y = []\n",
    "    \n",
    "    if len(Y1) != len (Y2):\n",
    "        print(\"Arrays have different lengths!\")\n",
    "    else:\n",
    "        Y = np.minimum(Y1, Y2)\n",
    "    \n",
    "    return Y\n",
    "\n",
    "def aggregate_max(Y1, Y2):\n",
    "    Y = []\n",
    "    \n",
    "    if len(Y1) != len (Y2):\n",
    "        print(\"Arrays have different lengths!\")\n",
    "    else:\n",
    "        Y = np.maximum(Y1, Y2)\n",
    "    \n",
    "    return Y\n",
    "\n",
    "def sum_of_multiplications(X, Y):\n",
    "    sum_XY = 0\n",
    "    if len(X) != len (Y):\n",
    "        print(\"Arrays have different lengths!\")\n",
    "    else:\n",
    "        for i in range(len(X)):\n",
    "            mult = X[i] * Y[i]\n",
    "            sum_XY = sum_XY + mult\n",
    "    return sum_XY\n",
    "        "
   ]
  },
  {
   "cell_type": "code",
   "execution_count": 18,
   "id": "be700526",
   "metadata": {},
   "outputs": [
    {
     "data": {
      "text/plain": [
       "0.6724213988522441"
      ]
     },
     "execution_count": 18,
     "metadata": {},
     "output_type": "execute_result"
    }
   ],
   "source": [
    "import math\n",
    "X = [3, 1, 4, 2]\n",
    "Y1 = [1, 2, 1, 6]\n",
    "Y2 = [3, 4, 1, 0]\n",
    "Y = aggregate_max(Y1, Y2)\n",
    "\n",
    "sum_X_YY = sum_of_multiplications(X, Y)\n",
    "sum_X_squared = sum_of_multiplications(X, X)\n",
    "sum_Y_squared = sum_of_multiplications(Y, Y)\n",
    "\n",
    "cos_X_YY = sum_X_YY / (math.sqrt(sum_X_squared) * math.sqrt(sum_Y_squared))\n",
    "\n",
    "cos_X_YY"
   ]
  },
  {
   "cell_type": "code",
   "execution_count": 19,
   "id": "337b2fb5",
   "metadata": {},
   "outputs": [],
   "source": [
    "tau_avg = 0.3\n",
    "tau_min = 0.3\n",
    "tau_max = 0.3"
   ]
  },
  {
   "cell_type": "code",
   "execution_count": null,
   "id": "7c7d64c0",
   "metadata": {},
   "outputs": [],
   "source": []
  }
 ],
 "metadata": {
  "kernelspec": {
   "display_name": "Python 3 (ipykernel)",
   "language": "python",
   "name": "python3"
  },
  "language_info": {
   "codemirror_mode": {
    "name": "ipython",
    "version": 3
   },
   "file_extension": ".py",
   "mimetype": "text/x-python",
   "name": "python",
   "nbconvert_exporter": "python",
   "pygments_lexer": "ipython3",
   "version": "3.9.7"
  }
 },
 "nbformat": 4,
 "nbformat_minor": 5
}
