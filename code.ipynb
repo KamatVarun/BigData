{
 "cells": [
  {
   "cell_type": "markdown",
   "id": "e9a7582e",
   "metadata": {},
   "source": [
    "# Milestone 1 - Group 18"
   ]
  },
  {
   "cell_type": "code",
   "execution_count": 1,
   "id": "4e43fa4b",
   "metadata": {},
   "outputs": [],
   "source": [
    "import pandas as pd\n",
    "\n",
    "import findspark\n",
    "findspark.init()\n",
    "from pyspark.sql import functions as sf\n",
    "from pyspark.sql.functions import when, col, trim, to_timestamp\n",
    "from pyspark.sql.types import IntegerType, StringType\n",
    "from pyspark.sql.functions import lead, lag\n",
    "from pyspark.sql.window import Window\n",
    "import pyspark.sql.functions as func\n",
    "from pyspark.sql.functions import udf\n",
    "import matplotlib.pyplot as plt\n",
    "import matplotlib as mp\n",
    "import numpy as np\n",
    "import pyspark\n",
    "from pyspark.sql import SparkSession\n",
    "\n",
    "spark = SparkSession.builder.getOrCreate()"
   ]
  },
  {
   "cell_type": "markdown",
   "id": "2dce9868",
   "metadata": {},
   "source": [
    "# Loading the Data"
   ]
  },
  {
   "cell_type": "code",
   "execution_count": 2,
   "id": "c23b4ba6",
   "metadata": {},
   "outputs": [
    {
     "name": "stdout",
     "output_type": "stream",
     "text": [
      "Number of rows in raw data: 22928521\n",
      "root\n",
      " |-- Dummy: string (nullable = true)\n",
      " |-- Date: string (nullable = true)\n",
      " |-- Price: double (nullable = true)\n",
      " |-- Volume: string (nullable = true)\n",
      "\n"
     ]
    }
   ],
   "source": [
    "raw_df = spark.read.option(\"header\",True) \\\n",
    "    .csv(\"MS1.csv\",inferSchema=True).toDF(\n",
    "  \"Dummy\", \"Date\", \"Price\", \"Volume\"\n",
    ")\n",
    "print('Number of rows in raw data:', raw_df.count())\n",
    "\n",
    "raw_df.printSchema()"
   ]
  },
  {
   "cell_type": "markdown",
   "id": "e3f48366",
   "metadata": {},
   "source": [
    "# View the Data"
   ]
  },
  {
   "cell_type": "code",
   "execution_count": 3,
   "id": "8c4fcf0e",
   "metadata": {},
   "outputs": [
    {
     "name": "stdout",
     "output_type": "stream",
     "text": [
      "+--------------------+----------+-----+------+\n",
      "|               Dummy|      Date|Price|Volume|\n",
      "+--------------------+----------+-----+------+\n",
      "|32843.Nordamerika...|01/04/2016|18.52| 51616|\n",
      "|32843.Nordamerika...|01/05/2016|19.15| 54898|\n",
      "|32843.Nordamerika...|01/06/2016|19.71| 41555|\n",
      "|32843.Nordamerika...|01/07/2016|19.17| 44430|\n",
      "|32843.Nordamerika...|01/08/2016|18.94| 72673|\n",
      "|32843.Nordamerika...|01/11/2016| 19.1| 45426|\n",
      "|32843.Nordamerika...|01/12/2016|19.39| 61457|\n",
      "|32843.Nordamerika...|01/13/2016|19.27| 61805|\n",
      "|32843.Nordamerika...|01/14/2016|19.17| 35597|\n",
      "|32843.Nordamerika...|01/15/2016|18.81| 69227|\n",
      "|32843.Nordamerika...|01/18/2016|18.81| 69227|\n",
      "|32843.Nordamerika...|01/19/2016|18.82| 23700|\n",
      "|32843.Nordamerika...|01/20/2016|17.97| 41439|\n",
      "|32843.Nordamerika...|01/21/2016|17.82| 35240|\n",
      "|32843.Nordamerika...|01/22/2016|18.62| 79139|\n",
      "|32843.Nordamerika...|01/25/2016|18.09| 89251|\n",
      "|32843.Nordamerika...|01/26/2016|17.62| 75300|\n",
      "|32843.Nordamerika...|01/27/2016|17.58| 43142|\n",
      "|32843.Nordamerika...|01/28/2016| 17.7| 20499|\n",
      "|32843.Nordamerika...|01/29/2016|17.74| 41931|\n",
      "+--------------------+----------+-----+------+\n",
      "only showing top 20 rows\n",
      "\n"
     ]
    }
   ],
   "source": [
    "raw_df.show()"
   ]
  },
  {
   "cell_type": "markdown",
   "id": "032647ad",
   "metadata": {},
   "source": [
    "# Data Pre-processing"
   ]
  },
  {
   "cell_type": "code",
   "execution_count": 4,
   "id": "7e060ed4",
   "metadata": {},
   "outputs": [],
   "source": [
    "from pyspark.sql.functions import split\n",
    "import pyspark.sql.functions as f\n",
    "raw_df=raw_df.withColumn(\"Number\", split(col(\"Dummy\"), \"[.]\").getItem(0)).withColumn(\"Name\", split(col(\"Dummy\"), \"[.]\").getItem(1))"
   ]
  },
  {
   "cell_type": "code",
   "execution_count": 5,
   "id": "1dfc290b",
   "metadata": {},
   "outputs": [],
   "source": [
    "raw_df=raw_df.drop(raw_df.Dummy)\n"
   ]
  },
  {
   "cell_type": "code",
   "execution_count": 6,
   "id": "36ce91fd",
   "metadata": {},
   "outputs": [
    {
     "name": "stdout",
     "output_type": "stream",
     "text": [
      "+----------+-------+------+------+--------------------+\n",
      "|      Date|  Price|Volume|Number|                Name|\n",
      "+----------+-------+------+------+--------------------+\n",
      "|01/04/2016|  18.52| 51616| 32843|Nordamerika_USA-N...|\n",
      "|01/05/2016|  19.15| 54898| 32843|Nordamerika_USA-N...|\n",
      "|01/06/2016|  19.71| 41555| 32843|Nordamerika_USA-N...|\n",
      "|01/07/2016|  19.17| 44430| 32843|Nordamerika_USA-N...|\n",
      "|01/08/2016|  18.94| 72673| 32843|Nordamerika_USA-N...|\n",
      "|01/11/2016|   19.1| 45426| 32843|Nordamerika_USA-N...|\n",
      "|01/12/2016|  19.39| 61457| 32843|Nordamerika_USA-N...|\n",
      "|01/13/2016|  19.27| 61805| 32843|Nordamerika_USA-N...|\n",
      "|01/14/2016|  19.17| 35597| 32843|Nordamerika_USA-N...|\n",
      "|01/15/2016|  18.81| 69227| 32843|Nordamerika_USA-N...|\n",
      "|01/18/2016|  18.81| 69227| 32843|Nordamerika_USA-N...|\n",
      "|01/19/2016|  18.82| 23700| 32843|Nordamerika_USA-N...|\n",
      "|01/20/2016|  17.97| 41439| 32843|Nordamerika_USA-N...|\n",
      "|01/21/2016|  17.82| 35240| 32843|Nordamerika_USA-N...|\n",
      "|01/22/2016|  18.62| 79139| 32843|Nordamerika_USA-N...|\n",
      "|01/25/2016|  18.09| 89251| 32843|Nordamerika_USA-N...|\n",
      "|01/26/2016|  17.62| 75300| 32843|Nordamerika_USA-N...|\n",
      "|01/27/2016|  17.58| 43142| 32843|Nordamerika_USA-N...|\n",
      "|01/28/2016|   17.7| 20499| 32843|Nordamerika_USA-N...|\n",
      "|01/29/2016|  17.74| 41931| 32843|Nordamerika_USA-N...|\n",
      "|02/01/2016|  18.61| 25927| 32843|Nordamerika_USA-N...|\n",
      "|02/02/2016|  18.08| 27999| 32843|Nordamerika_USA-N...|\n",
      "|02/03/2016|  17.78| 27809| 32843|Nordamerika_USA-N...|\n",
      "|02/04/2016|  17.42| 33929| 32843|Nordamerika_USA-N...|\n",
      "|02/05/2016|  17.31| 46234| 32843|Nordamerika_USA-N...|\n",
      "|02/08/2016|  16.93| 29098| 32843|Nordamerika_USA-N...|\n",
      "|02/09/2016|  16.66| 22557| 32843|Nordamerika_USA-N...|\n",
      "|02/10/2016|   16.9| 39625| 32843|Nordamerika_USA-N...|\n",
      "|02/11/2016|  16.26| 22332| 32843|Nordamerika_USA-N...|\n",
      "|02/12/2016|  16.42| 36093| 32843|Nordamerika_USA-N...|\n",
      "|02/15/2016|  16.42| 36093| 32843|Nordamerika_USA-N...|\n",
      "|02/16/2016|  16.96| 12770| 32843|Nordamerika_USA-N...|\n",
      "|02/17/2016|  16.95| 36408| 32843|Nordamerika_USA-N...|\n",
      "|02/18/2016|  17.39| 40048| 32843|Nordamerika_USA-N...|\n",
      "|02/19/2016|  17.01| 41140| 32843|Nordamerika_USA-N...|\n",
      "|02/22/2016|  19.01|234957| 32843|Nordamerika_USA-N...|\n",
      "|02/23/2016|  18.79| 94191| 32843|Nordamerika_USA-N...|\n",
      "|02/24/2016|  18.87| 75470| 32843|Nordamerika_USA-N...|\n",
      "|02/25/2016|   19.0| 89111| 32843|Nordamerika_USA-N...|\n",
      "|02/26/2016|  19.51|111610| 32843|Nordamerika_USA-N...|\n",
      "|02/29/2016|  19.68|126369| 32843|Nordamerika_USA-N...|\n",
      "|03/01/2016|   19.8| 66060| 32843|Nordamerika_USA-N...|\n",
      "|03/02/2016|  19.76| 56627| 32843|Nordamerika_USA-N...|\n",
      "|03/03/2016|   19.8| 29961| 32843|Nordamerika_USA-N...|\n",
      "|03/04/2016|   19.7| 27620| 32843|Nordamerika_USA-N...|\n",
      "|03/07/2016|  19.69| 51229| 32843|Nordamerika_USA-N...|\n",
      "|03/08/2016|  19.79| 37329| 32843|Nordamerika_USA-N...|\n",
      "|03/09/2016|  19.56| 28248| 32843|Nordamerika_USA-N...|\n",
      "|03/10/2016|  19.78| 30213| 32843|Nordamerika_USA-N...|\n",
      "|03/11/2016|  19.69| 83338| 32843|Nordamerika_USA-N...|\n",
      "|03/14/2016|  19.99| 56600| 32843|Nordamerika_USA-N...|\n",
      "|03/15/2016|   20.0| 28377| 32843|Nordamerika_USA-N...|\n",
      "|03/16/2016|  19.96| 61430| 32843|Nordamerika_USA-N...|\n",
      "|03/17/2016|  19.92|179954| 32843|Nordamerika_USA-N...|\n",
      "|03/18/2016|  20.29|160484| 32843|Nordamerika_USA-N...|\n",
      "|03/21/2016|  20.79|137558| 32843|Nordamerika_USA-N...|\n",
      "|03/22/2016|  21.31| 54688| 32843|Nordamerika_USA-N...|\n",
      "|03/23/2016|  20.57| 86411| 32843|Nordamerika_USA-N...|\n",
      "|03/24/2016|  19.77| 32807| 32843|Nordamerika_USA-N...|\n",
      "|03/25/2016|  19.77| 32807| 32843|Nordamerika_USA-N...|\n",
      "|03/28/2016|  19.54| 44634| 32843|Nordamerika_USA-N...|\n",
      "|03/29/2016|  19.39| 34416| 32843|Nordamerika_USA-N...|\n",
      "|03/30/2016|  20.07| 59291| 32843|Nordamerika_USA-N...|\n",
      "|03/31/2016|  19.71| 46520| 32843|Nordamerika_USA-N...|\n",
      "|04/01/2016|  19.45| 30144| 32843|Nordamerika_USA-N...|\n",
      "|04/04/2016|  19.32| 27405| 32843|Nordamerika_USA-N...|\n",
      "|04/05/2016|  18.92| 55650| 32843|Nordamerika_USA-N...|\n",
      "|04/06/2016|  18.67| 74928| 32843|Nordamerika_USA-N...|\n",
      "|04/07/2016|  18.81| 70763| 32843|Nordamerika_USA-N...|\n",
      "|04/08/2016|  19.07| 57696| 32843|Nordamerika_USA-N...|\n",
      "|04/11/2016|  19.36| 52475| 32843|Nordamerika_USA-N...|\n",
      "|04/12/2016|  19.53| 50239| 32843|Nordamerika_USA-N...|\n",
      "|04/13/2016|  20.04| 53427| 32843|Nordamerika_USA-N...|\n",
      "|04/14/2016|  19.43| 20032| 32843|Nordamerika_USA-N...|\n",
      "|04/15/2016|  19.45| 32626| 32843|Nordamerika_USA-N...|\n",
      "|04/18/2016|  19.92| 76413| 32843|Nordamerika_USA-N...|\n",
      "|04/19/2016|   20.2| 38334| 32843|Nordamerika_USA-N...|\n",
      "|04/20/2016|  20.65| 40912| 32843|Nordamerika_USA-N...|\n",
      "|04/21/2016|  20.84| 13147| 32843|Nordamerika_USA-N...|\n",
      "|04/22/2016|  20.84| 16166| 32843|Nordamerika_USA-N...|\n",
      "|04/25/2016| 20.345| 19823| 32843|Nordamerika_USA-N...|\n",
      "|04/26/2016|  19.64| 28623| 32843|Nordamerika_USA-N...|\n",
      "|04/27/2016|  19.73| 67886| 32843|Nordamerika_USA-N...|\n",
      "|04/28/2016|  20.71| 72990| 32843|Nordamerika_USA-N...|\n",
      "|04/29/2016|  22.55| 55116| 32843|Nordamerika_USA-N...|\n",
      "|05/02/2016|  21.72| 69755| 32843|Nordamerika_USA-N...|\n",
      "|05/03/2016|  21.57| 51293| 32843|Nordamerika_USA-N...|\n",
      "|05/04/2016|  21.65| 49320| 32843|Nordamerika_USA-N...|\n",
      "|05/05/2016|  22.25| 49827| 32843|Nordamerika_USA-N...|\n",
      "|05/06/2016|  22.05| 37105| 32843|Nordamerika_USA-N...|\n",
      "|05/09/2016|  22.84| 45084| 32843|Nordamerika_USA-N...|\n",
      "|05/10/2016|  24.11| 48296| 32843|Nordamerika_USA-N...|\n",
      "|05/11/2016|  23.59| 36403| 32843|Nordamerika_USA-N...|\n",
      "|05/12/2016|  23.53| 49779| 32843|Nordamerika_USA-N...|\n",
      "|05/13/2016|23.6499| 41981| 32843|Nordamerika_USA-N...|\n",
      "|05/16/2016|  23.06| 25961| 32843|Nordamerika_USA-N...|\n",
      "|05/17/2016|  23.46| 40994| 32843|Nordamerika_USA-N...|\n",
      "|05/18/2016|  22.32| 44956| 32843|Nordamerika_USA-N...|\n",
      "|05/19/2016|   22.6| 38264| 32843|Nordamerika_USA-N...|\n",
      "|05/20/2016|  22.56| 37948| 32843|Nordamerika_USA-N...|\n",
      "+----------+-------+------+------+--------------------+\n",
      "only showing top 100 rows\n",
      "\n"
     ]
    },
    {
     "data": {
      "text/plain": [
       "22928521"
      ]
     },
     "execution_count": 6,
     "metadata": {},
     "output_type": "execute_result"
    }
   ],
   "source": [
    "raw_df.show(100)\n",
    "raw_df.count()"
   ]
  },
  {
   "cell_type": "code",
   "execution_count": 7,
   "id": "6561986f",
   "metadata": {},
   "outputs": [
    {
     "data": {
      "text/plain": [
       "DataFrame[Date: string, Price: double, Volume: string, Number: string, Name: string]"
      ]
     },
     "execution_count": 7,
     "metadata": {},
     "output_type": "execute_result"
    }
   ],
   "source": [
    "raw_df"
   ]
  },
  {
   "cell_type": "code",
   "execution_count": 8,
   "id": "16526f9f",
   "metadata": {},
   "outputs": [
    {
     "data": {
      "text/plain": [
       "22928520"
      ]
     },
     "execution_count": 8,
     "metadata": {},
     "output_type": "execute_result"
    }
   ],
   "source": [
    "#delete missing values\n",
    "raw_df=raw_df.na.drop()\n",
    "raw_df.count()"
   ]
  },
  {
   "cell_type": "markdown",
   "id": "dc74abcb",
   "metadata": {},
   "source": [
    "# Loading Time Series Data"
   ]
  },
  {
   "cell_type": "code",
   "execution_count": 9,
   "id": "62ffd608",
   "metadata": {},
   "outputs": [
    {
     "name": "stdout",
     "output_type": "stream",
     "text": [
      "Number of rows in raw data: 10626899\n",
      "+--------------+--------+------------------+----------+----------+--------------+-----------------+------------+--------------+------------+------------+------------+-----------------------+------------------+------------------+---------------+-----------+--------------+------------+--------------+-------------------+----------------+---------------------------------+------------+-------------+-------------------+-------------------+-----------+------------+--------------------+--------------------------+--------------------+------------------+-------------+---------------------+------------+------------+--------------+-------------------+---------------------+---------------------------------+-----------------+------------------------+--------+---------+---------------+------------------+------------+----+----+----+\n",
      "|Summons Number|Plate ID|Registration State|Plate Type|Issue Date|Violation Code|Vehicle Body Type|Vehicle Make|Issuing Agency|Street Code1|Street Code2|Street Code3|Vehicle Expiration Date|Violation Location|Violation Precinct|Issuer Precinct|Issuer Code|Issuer Command|Issuer Squad|Violation Time|Time First Observed|Violation County|Violation In Front Of Or Opposite|House Number|  Street Name|Intersecting Street|Date First Observed|Law Section|Sub Division|Violation Legal Code|Days Parking In Effect    |From Hours In Effect|To Hours In Effect|Vehicle Color|Unregistered Vehicle?|Vehicle Year|Meter Number|Feet From Curb|Violation Post Code|Violation Description|No Standing or Stopping Violation|Hydrant Violation|Double Parking Violation|Latitude|Longitude|Community Board|Community Council |Census Tract| BIN| BBL| NTA|\n",
      "+--------------+--------+------------------+----------+----------+--------------+-----------------+------------+--------------+------------+------------+------------+-----------------------+------------------+------------------+---------------+-----------+--------------+------------+--------------+-------------------+----------------+---------------------------------+------------+-------------+-------------------+-------------------+-----------+------------+--------------------+--------------------------+--------------------+------------------+-------------+---------------------+------------+------------+--------------+-------------------+---------------------+---------------------------------+-----------------+------------------------+--------+---------+---------------+------------------+------------+----+----+----+\n",
      "|    1363745270| GGY6450|                99|       PAS|07/09/2015|            46|              SDN|       HONDA|             P|           0|       40404|       40404|               20170602|              0074|                74|            301|     358160|          T301|        0000|         1037A|               null|               K|                                F|         142| MACDOUNGH ST|               null|                  0|        408|          D1|                null|                   BBBBBBB|                 ALL|               ALL|        WHITE|                    0|        2010|           -|             0|               null|                 null|                             null|             null|                    null|    null|     null|           null|              null|        null|null|null|null|\n",
      "|    1363745293|  KXD355|                SC|       PAS|07/09/2015|            21|             SUBN|       CHEVR|             P|       55730|       67030|       58730|               20160288|              0079|                79|            301|     358160|          T301|        0000|         1206P|               null|               K|                                F|         331|LEXINGTON AVE|               null|                  0|        408|          F1|                null|                   YBBYBBB|               1100A|             1230P|          RED|                    0|           0|           -|             0|               null|                 null|                             null|             null|                    null|    null|     null|           null|              null|        null|null|null|null|\n",
      "|    1363745438| JCK7576|                PA|       PAS|07/09/2015|            21|              SDN|       ME/BE|             P|       42730|       26730|       26830|                      0|              0079|                79|              0|     358114|          TEBN|        0000|         0820A|               null|               K|                                F|        1087|    FULTON ST|               null|                  0|        408|          D1|                null|                   YBBYBBB|               0800A|             0930A|        WHITE|                    0|           0|           -|             0|               null|                 null|                             null|             null|                    null|    null|     null|           null|              null|        null|null|null|null|\n",
      "|    1363745475| GYK7658|                NY|       OMS|07/09/2015|            21|             SUBN|       NISSA|             P|       58130|       18630|       67030|                      0|              0079|                79|            301|     358114|          T301|        0000|         0918A|               null|               K|                                F|         207|   MADISON ST|               null|                  0|        408|          D1|                null|                   YBBYBBB|               0900A|              1030|           BK|                    0|        2015|           -|             0|               null|                 null|                             null|             null|                    null|    null|     null|           null|              null|        null|null|null|null|\n",
      "|    1363745487| GMT8141|                NY|       PAS|07/09/2015|            21|              P-U|       LINCO|             P|       58130|       67030|       58730|               20160206|              0079|                79|            301|     358114|          T301|        0000|         0925A|               null|               K|                                F|         237|   MADISON ST|               null|                  0|        408|          D1|                null|                   YBBYBBB|               0900A|             1030A|          BLK|                    0|        2006|           -|             0|               null|                 null|                             null|             null|                    null|    null|     null|           null|              null|        null|null|null|null|\n",
      "|    1363745517| GYK3760|                NY|       PAS|07/09/2015|            21|             SUBN|       HONDA|             P|       46730|       58730|       85730|               20160709|              0079|                79|            301|     358114|          T301|        0000|         0948A|               null|               K|                                F|         201|    HALSEY ST|               null|                  0|        408|          D1|                null|                   YBBYBBB|               0900A|             1030A|        OTHER|                    0|        2006|           -|             0|               null|                 null|                             null|             null|                    null|    null|     null|           null|              null|        null|null|null|null|\n",
      "|    1363745529| GYK3760|                NY|       PAS|07/09/2015|            75|             SUBN|       HONDA|             P|       46730|       58730|       85730|               20160709|              null|                 0|            301|     358114|          T301|        0000|         0949A|               null|               K|                                F|         201|    HALSEY ST|               null|                  0|        408|          D1|                null|                   BBBBBBB|                 ALL|               ALL|        OTHER|                    0|        2006|           -|             0|               null|                 null|                             null|             null|                    null|    null|     null|           null|              null|        null|null|null|null|\n",
      "|    1363745542| GWL9925|                NY|       PAS|07/09/2015|            71|              SDN|       TOYOT|             P|       85730|       59530|       32030|               20170602|              0079|                79|            301|     358114|          T301|        0000|         1043A|               null|               K|                                O|         482| TOMPKINS AVE|               null|                  0|        408|          D1|                null|                   BBBBBBB|                 ALL|               ALL|        OTHER|                    0|        2006|           -|             0|               null|                 null|                             null|             null|                    null|    null|     null|           null|              null|        null|null|null|null|\n",
      "|    1363745554| GPH9963|                PA|       PAS|07/09/2015|            21|              SDN|       MITSU|             P|       55730|       67030|       58730|               20150288|              0079|                79|            301|     358114|          T301|        0000|         1204P|               null|               K|                                F|         317|LEXINGTON AVE|               null|                  0|        408|          J6|                null|                   YBBYBBB|               1100A|             1230P|        OTHER|                    0|           0|           -|             0|               null|                 null|                             null|             null|                    null|    null|     null|           null|              null|        null|null|null|null|\n",
      "|    1363745578| GWF8627|                NY|       PAS|07/09/2015|            21|             SUBN|       LINCO|             P|       31530|       58730|       85730|               20170407|              0079|                79|            301|     358114|          T301|        0000|         1227P|               null|               K|                                F|         739|   DEKALB AVE|               null|                  0|        408|          D1|                null|                   YBBYBBB|               1200P|             0130P|        OTHER|                    0|        2002|           -|             0|               null|                 null|                             null|             null|                    null|    null|     null|           null|              null|        null|null|null|null|\n",
      "+--------------+--------+------------------+----------+----------+--------------+-----------------+------------+--------------+------------+------------+------------+-----------------------+------------------+------------------+---------------+-----------+--------------+------------+--------------+-------------------+----------------+---------------------------------+------------+-------------+-------------------+-------------------+-----------+------------+--------------------+--------------------------+--------------------+------------------+-------------+---------------------+------------+------------+--------------+-------------------+---------------------+---------------------------------+-----------------+------------------------+--------+---------+---------------+------------------+------------+----+----+----+\n",
      "only showing top 10 rows\n",
      "\n",
      "root\n",
      " |-- Summons Number: string (nullable = true)\n",
      " |-- Plate ID: string (nullable = true)\n",
      " |-- Registration State: string (nullable = true)\n",
      " |-- Plate Type: string (nullable = true)\n",
      " |-- Issue Date: string (nullable = true)\n",
      " |-- Violation Code: string (nullable = true)\n",
      " |-- Vehicle Body Type: string (nullable = true)\n",
      " |-- Vehicle Make: string (nullable = true)\n",
      " |-- Issuing Agency: string (nullable = true)\n",
      " |-- Street Code1: string (nullable = true)\n",
      " |-- Street Code2: string (nullable = true)\n",
      " |-- Street Code3: string (nullable = true)\n",
      " |-- Vehicle Expiration Date: string (nullable = true)\n",
      " |-- Violation Location: string (nullable = true)\n",
      " |-- Violation Precinct: string (nullable = true)\n",
      " |-- Issuer Precinct: string (nullable = true)\n",
      " |-- Issuer Code: string (nullable = true)\n",
      " |-- Issuer Command: string (nullable = true)\n",
      " |-- Issuer Squad: string (nullable = true)\n",
      " |-- Violation Time: string (nullable = true)\n",
      " |-- Time First Observed: string (nullable = true)\n",
      " |-- Violation County: string (nullable = true)\n",
      " |-- Violation In Front Of Or Opposite: string (nullable = true)\n",
      " |-- House Number: string (nullable = true)\n",
      " |-- Street Name: string (nullable = true)\n",
      " |-- Intersecting Street: string (nullable = true)\n",
      " |-- Date First Observed: string (nullable = true)\n",
      " |-- Law Section: string (nullable = true)\n",
      " |-- Sub Division: string (nullable = true)\n",
      " |-- Violation Legal Code: string (nullable = true)\n",
      " |-- Days Parking In Effect    : string (nullable = true)\n",
      " |-- From Hours In Effect: string (nullable = true)\n",
      " |-- To Hours In Effect: string (nullable = true)\n",
      " |-- Vehicle Color: string (nullable = true)\n",
      " |-- Unregistered Vehicle?: string (nullable = true)\n",
      " |-- Vehicle Year: string (nullable = true)\n",
      " |-- Meter Number: string (nullable = true)\n",
      " |-- Feet From Curb: string (nullable = true)\n",
      " |-- Violation Post Code: string (nullable = true)\n",
      " |-- Violation Description: string (nullable = true)\n",
      " |-- No Standing or Stopping Violation: string (nullable = true)\n",
      " |-- Hydrant Violation: string (nullable = true)\n",
      " |-- Double Parking Violation: string (nullable = true)\n",
      " |-- Latitude: string (nullable = true)\n",
      " |-- Longitude: string (nullable = true)\n",
      " |-- Community Board: string (nullable = true)\n",
      " |-- Community Council : string (nullable = true)\n",
      " |-- Census Tract: string (nullable = true)\n",
      " |-- BIN: string (nullable = true)\n",
      " |-- BBL: string (nullable = true)\n",
      " |-- NTA: string (nullable = true)\n",
      "\n"
     ]
    }
   ],
   "source": [
    "time_df = spark.read.option(\"header\",True) \\\n",
    "    .csv(\"parking.csv\")\n",
    "print('Number of rows in raw data:', time_df.count())\n",
    "time_df.show(10)\n",
    "time_df.printSchema()"
   ]
  },
  {
   "cell_type": "code",
   "execution_count": 10,
   "id": "c7c75d22",
   "metadata": {},
   "outputs": [
    {
     "name": "stdout",
     "output_type": "stream",
     "text": [
      "root\n",
      " |-- Summons Number: string (nullable = true)\n",
      " |-- Plate ID: string (nullable = true)\n",
      " |-- Registration State: string (nullable = true)\n",
      " |-- Plate Type: string (nullable = true)\n",
      " |-- Issue Date: string (nullable = true)\n",
      " |-- Violation Code: string (nullable = true)\n",
      " |-- Vehicle Body Type: string (nullable = true)\n",
      " |-- Vehicle Make: string (nullable = true)\n",
      " |-- Issuing Agency: string (nullable = true)\n",
      " |-- Street Code1: string (nullable = true)\n",
      " |-- Street Code2: string (nullable = true)\n",
      " |-- Street Code3: string (nullable = true)\n",
      " |-- Vehicle Expiration Date: string (nullable = true)\n",
      " |-- Violation Location: string (nullable = true)\n",
      " |-- Violation Precinct: string (nullable = true)\n",
      " |-- Issuer Precinct: string (nullable = true)\n",
      " |-- Issuer Code: string (nullable = true)\n",
      " |-- Issuer Command: string (nullable = true)\n",
      " |-- Issuer Squad: string (nullable = true)\n",
      " |-- Violation Time: string (nullable = true)\n",
      " |-- Time First Observed: string (nullable = true)\n",
      " |-- Violation County: string (nullable = true)\n",
      " |-- Violation In Front Of Or Opposite: string (nullable = true)\n",
      " |-- House Number: string (nullable = true)\n",
      " |-- Street Name: string (nullable = true)\n",
      " |-- Intersecting Street: string (nullable = true)\n",
      " |-- Date First Observed: string (nullable = true)\n",
      " |-- Law Section: string (nullable = true)\n",
      " |-- Sub Division: string (nullable = true)\n",
      " |-- Violation Legal Code: string (nullable = true)\n",
      " |-- Days Parking In Effect    : string (nullable = true)\n",
      " |-- From Hours In Effect: string (nullable = true)\n",
      " |-- To Hours In Effect: string (nullable = true)\n",
      " |-- Vehicle Color: string (nullable = true)\n",
      " |-- Unregistered Vehicle?: string (nullable = true)\n",
      " |-- Vehicle Year: string (nullable = true)\n",
      " |-- Meter Number: string (nullable = true)\n",
      " |-- Feet From Curb: string (nullable = true)\n",
      " |-- Violation Post Code: string (nullable = true)\n",
      " |-- Violation Description: string (nullable = true)\n",
      " |-- No Standing or Stopping Violation: string (nullable = true)\n",
      " |-- Hydrant Violation: string (nullable = true)\n",
      " |-- Double Parking Violation: string (nullable = true)\n",
      " |-- Latitude: string (nullable = true)\n",
      " |-- Longitude: string (nullable = true)\n",
      " |-- Community Board: string (nullable = true)\n",
      " |-- Community Council : string (nullable = true)\n",
      " |-- Census Tract: string (nullable = true)\n",
      "\n"
     ]
    },
    {
     "data": {
      "text/plain": [
       "10626899"
      ]
     },
     "execution_count": 10,
     "metadata": {},
     "output_type": "execute_result"
    }
   ],
   "source": [
    "#dropping the last three columns\n",
    "col_drop=[\"BIN\",\"BBL\",\"NTA\"]\n",
    "for col in col_drop:\n",
    "    time_df=time_df. drop(col)\n",
    "\n",
    "#prinitng new schema\n",
    "time_df.printSchema()\n",
    "time_df.count()"
   ]
  },
  {
   "cell_type": "code",
   "execution_count": 11,
   "id": "f2f0f6b9",
   "metadata": {},
   "outputs": [
    {
     "name": "stdout",
     "output_type": "stream",
     "text": [
      "root\n",
      " |-- Summons Number: string (nullable = true)\n",
      " |-- Plate ID: string (nullable = true)\n",
      " |-- Registration State: string (nullable = true)\n",
      " |-- Plate Type: string (nullable = true)\n",
      " |-- Date: string (nullable = true)\n",
      " |-- Violation Code: string (nullable = true)\n",
      " |-- Vehicle Body Type: string (nullable = true)\n",
      " |-- Vehicle Make: string (nullable = true)\n",
      " |-- Issuing Agency: string (nullable = true)\n",
      " |-- Street Code1: string (nullable = true)\n",
      " |-- Street Code2: string (nullable = true)\n",
      " |-- Street Code3: string (nullable = true)\n",
      " |-- Vehicle Expiration Date: string (nullable = true)\n",
      " |-- Violation Location: string (nullable = true)\n",
      " |-- Violation Precinct: string (nullable = true)\n",
      " |-- Issuer Precinct: string (nullable = true)\n",
      " |-- Issuer Code: string (nullable = true)\n",
      " |-- Issuer Command: string (nullable = true)\n",
      " |-- Issuer Squad: string (nullable = true)\n",
      " |-- Violation Time: string (nullable = true)\n",
      " |-- Time First Observed: string (nullable = true)\n",
      " |-- Violation County: string (nullable = true)\n",
      " |-- Violation In Front Of Or Opposite: string (nullable = true)\n",
      " |-- House Number: string (nullable = true)\n",
      " |-- Street Name: string (nullable = true)\n",
      " |-- Intersecting Street: string (nullable = true)\n",
      " |-- Date First Observed: string (nullable = true)\n",
      " |-- Law Section: string (nullable = true)\n",
      " |-- Sub Division: string (nullable = true)\n",
      " |-- Violation Legal Code: string (nullable = true)\n",
      " |-- Days Parking In Effect    : string (nullable = true)\n",
      " |-- From Hours In Effect: string (nullable = true)\n",
      " |-- To Hours In Effect: string (nullable = true)\n",
      " |-- Vehicle Color: string (nullable = true)\n",
      " |-- Unregistered Vehicle?: string (nullable = true)\n",
      " |-- Vehicle Year: string (nullable = true)\n",
      " |-- Meter Number: string (nullable = true)\n",
      " |-- Feet From Curb: string (nullable = true)\n",
      " |-- Violation Post Code: string (nullable = true)\n",
      " |-- Violation Description: string (nullable = true)\n",
      " |-- No Standing or Stopping Violation: string (nullable = true)\n",
      " |-- Hydrant Violation: string (nullable = true)\n",
      " |-- Double Parking Violation: string (nullable = true)\n",
      " |-- Latitude: string (nullable = true)\n",
      " |-- Longitude: string (nullable = true)\n",
      " |-- Community Board: string (nullable = true)\n",
      " |-- Community Council : string (nullable = true)\n",
      " |-- Census Tract: string (nullable = true)\n",
      "\n"
     ]
    }
   ],
   "source": [
    "time_df = time_df.withColumnRenamed(\"Issue Date\", \"Date\")\n",
    "time_df.printSchema()"
   ]
  },
  {
   "cell_type": "markdown",
   "id": "23a77624",
   "metadata": {},
   "source": [
    "# Merging time series dataset with stocks dataset "
   ]
  },
  {
   "cell_type": "code",
   "execution_count": 12,
   "id": "8beee253",
   "metadata": {},
   "outputs": [
    {
     "name": "stdout",
     "output_type": "stream",
     "text": [
      "+----------+--------+-------+------+--------------------+--------------+--------+------------------+----------+--------------+-----------------+------------+--------------+------------+------------+------------+-----------------------+------------------+------------------+---------------+-----------+--------------+------------+--------------+-------------------+----------------+---------------------------------+------------+----------------+-------------------+-------------------+-----------+------------+--------------------+--------------------------+--------------------+------------------+-------------+---------------------+------------+------------+--------------+-------------------+---------------------+---------------------------------+-----------------+------------------------+--------+---------+---------------+------------------+------------+\n",
      "|      Date|   Price| Volume|Number|                Name|Summons Number|Plate ID|Registration State|Plate Type|Violation Code|Vehicle Body Type|Vehicle Make|Issuing Agency|Street Code1|Street Code2|Street Code3|Vehicle Expiration Date|Violation Location|Violation Precinct|Issuer Precinct|Issuer Code|Issuer Command|Issuer Squad|Violation Time|Time First Observed|Violation County|Violation In Front Of Or Opposite|House Number|     Street Name|Intersecting Street|Date First Observed|Law Section|Sub Division|Violation Legal Code|Days Parking In Effect    |From Hours In Effect|To Hours In Effect|Vehicle Color|Unregistered Vehicle?|Vehicle Year|Meter Number|Feet From Curb|Violation Post Code|Violation Description|No Standing or Stopping Violation|Hydrant Violation|Double Parking Violation|Latitude|Longitude|Community Board|Community Council |Census Tract|\n",
      "+----------+--------+-------+------+--------------------+--------------+--------+------------------+----------+--------------+-----------------+------------+--------------+------------+------------+------------+-----------------------+------------------+------------------+---------------+-----------+--------------+------------+--------------+-------------------+----------------+---------------------------------+------------+----------------+-------------------+-------------------+-----------+------------+--------------------+--------------------------+--------------------+------------------+-------------+---------------------+------------+------------+--------------+-------------------+---------------------+---------------------------------+-----------------+------------------------+--------+---------+---------------+------------------+------------+\n",
      "|05/08/2015| 28300.0|1736098| 12041|Asien--Australien...|    1381018865| GVU7151|                NY|       PAS|            51|             SUBN|       ME/BE|             P|       12130|       60830|       74230|               20170126|              0071|                71|             71|     938590|          0071|        0000|         0430A|               null|               K|                                O|         578|      ALBANY AVE|               null|                  0|        408|          E3|                null|                   BBBBBBB|                 ALL|               ALL|           WT|                    0|        2012|           -|             0|               null|                 null|                             null|             null|                    null|    null|     null|           null|              null|        null|\n",
      "|05/08/2015| 28300.0|1736098| 12041|Asien--Australien...|    1335621763| 57491KA|                NY|       COM|            14|             DELV|       MITSU|             X|       18690|       24890|       10210|               20150508|              0019|                19|            235|     905825|          1235|        0000|         0230P|               null|            null|                                F|         159|   E 85TH STREET|               null|                  0|        408|          E2|                null|                   BBBBYBB|                 ALL|               ALL|        WHITE|                    0|        2006|           -|             0|               null|                 null|                             null|             null|                    null|    null|     null|           null|              null|        null|\n",
      "|05/08/2015| 28300.0|1736098| 12041|Asien--Australien...|    1381653182| FZC4079|                NY|       PAS|            46|             SUBN|       ROVER|             P|       27790|       18550|       18570|               20160523|              0019|                19|             19|     905090|          0019|        0000|          null|               null|            null|                             null|        null|            null|               null|                  0|          0|        null|                null|                      null|                null|              null|         null|                 null|           0|        null|             0|               null|                 null|                             null|             null|                    null|    null|     null|           null|              null|        null|\n",
      "|05/08/2015| 28300.0|1736098| 12041|Asien--Australien...|    1398853793| BRN5120|                FL|       PAS|            50|             null|       ACURA|             P|           0|           0|           0|                      0|              0033|                33|             33|     959696|          0033|        0000|         0041A|               null|              NY|                             null|        null|    S/E/C 160 ST|            FT WASH|                  0|        408|          E2|                null|                   BBBBBBB|                 ALL|               ALL|          GRY|                    0|           0|           -|             0|               null|                 null|                             null|             null|                    null|    null|     null|           null|              null|        null|\n",
      "|05/08/2015|820.5846|  54305|  8378|Asien--Australien...|    1381018865| GVU7151|                NY|       PAS|            51|             SUBN|       ME/BE|             P|       12130|       60830|       74230|               20170126|              0071|                71|             71|     938590|          0071|        0000|         0430A|               null|               K|                                O|         578|      ALBANY AVE|               null|                  0|        408|          E3|                null|                   BBBBBBB|                 ALL|               ALL|           WT|                    0|        2012|           -|             0|               null|                 null|                             null|             null|                    null|    null|     null|           null|              null|        null|\n",
      "|05/08/2015|820.5846|  54305|  8378|Asien--Australien...|    1335621763| 57491KA|                NY|       COM|            14|             DELV|       MITSU|             X|       18690|       24890|       10210|               20150508|              0019|                19|            235|     905825|          1235|        0000|         0230P|               null|            null|                                F|         159|   E 85TH STREET|               null|                  0|        408|          E2|                null|                   BBBBYBB|                 ALL|               ALL|        WHITE|                    0|        2006|           -|             0|               null|                 null|                             null|             null|                    null|    null|     null|           null|              null|        null|\n",
      "|05/08/2015|820.5846|  54305|  8378|Asien--Australien...|    1381653182| FZC4079|                NY|       PAS|            46|             SUBN|       ROVER|             P|       27790|       18550|       18570|               20160523|              0019|                19|             19|     905090|          0019|        0000|          null|               null|            null|                             null|        null|            null|               null|                  0|          0|        null|                null|                      null|                null|              null|         null|                 null|           0|        null|             0|               null|                 null|                             null|             null|                    null|    null|     null|           null|              null|        null|\n",
      "|05/08/2015|820.5846|  54305|  8378|Asien--Australien...|    1398853793| BRN5120|                FL|       PAS|            50|             null|       ACURA|             P|           0|           0|           0|                      0|              0033|                33|             33|     959696|          0033|        0000|         0041A|               null|              NY|                             null|        null|    S/E/C 160 ST|            FT WASH|                  0|        408|          E2|                null|                   BBBBBBB|                 ALL|               ALL|          GRY|                    0|           0|           -|             0|               null|                 null|                             null|             null|                    null|    null|     null|           null|              null|        null|\n",
      "|05/08/2015|  2652.0|   3200|  9055|Asien--Australien...|    1381018865| GVU7151|                NY|       PAS|            51|             SUBN|       ME/BE|             P|       12130|       60830|       74230|               20170126|              0071|                71|             71|     938590|          0071|        0000|         0430A|               null|               K|                                O|         578|      ALBANY AVE|               null|                  0|        408|          E3|                null|                   BBBBBBB|                 ALL|               ALL|           WT|                    0|        2012|           -|             0|               null|                 null|                             null|             null|                    null|    null|     null|           null|              null|        null|\n",
      "|05/08/2015|  2652.0|   3200|  9055|Asien--Australien...|    1335621763| 57491KA|                NY|       COM|            14|             DELV|       MITSU|             X|       18690|       24890|       10210|               20150508|              0019|                19|            235|     905825|          1235|        0000|         0230P|               null|            null|                                F|         159|   E 85TH STREET|               null|                  0|        408|          E2|                null|                   BBBBYBB|                 ALL|               ALL|        WHITE|                    0|        2006|           -|             0|               null|                 null|                             null|             null|                    null|    null|     null|           null|              null|        null|\n",
      "|05/08/2015|  2652.0|   3200|  9055|Asien--Australien...|    1381653182| FZC4079|                NY|       PAS|            46|             SUBN|       ROVER|             P|       27790|       18550|       18570|               20160523|              0019|                19|             19|     905090|          0019|        0000|          null|               null|            null|                             null|        null|            null|               null|                  0|          0|        null|                null|                      null|                null|              null|         null|                 null|           0|        null|             0|               null|                 null|                             null|             null|                    null|    null|     null|           null|              null|        null|\n",
      "|05/08/2015|  2652.0|   3200|  9055|Asien--Australien...|    1398853793| BRN5120|                FL|       PAS|            50|             null|       ACURA|             P|           0|           0|           0|                      0|              0033|                33|             33|     959696|          0033|        0000|         0041A|               null|              NY|                             null|        null|    S/E/C 160 ST|            FT WASH|                  0|        408|          E2|                null|                   BBBBBBB|                 ALL|               ALL|          GRY|                    0|           0|           -|             0|               null|                 null|                             null|             null|                    null|    null|     null|           null|              null|        null|\n",
      "|05/08/2015| 1315.35| 128829| 10949|Asien--Australien...|    1381018865| GVU7151|                NY|       PAS|            51|             SUBN|       ME/BE|             P|       12130|       60830|       74230|               20170126|              0071|                71|             71|     938590|          0071|        0000|         0430A|               null|               K|                                O|         578|      ALBANY AVE|               null|                  0|        408|          E3|                null|                   BBBBBBB|                 ALL|               ALL|           WT|                    0|        2012|           -|             0|               null|                 null|                             null|             null|                    null|    null|     null|           null|              null|        null|\n",
      "|05/08/2015| 1315.35| 128829| 10949|Asien--Australien...|    1335621763| 57491KA|                NY|       COM|            14|             DELV|       MITSU|             X|       18690|       24890|       10210|               20150508|              0019|                19|            235|     905825|          1235|        0000|         0230P|               null|            null|                                F|         159|   E 85TH STREET|               null|                  0|        408|          E2|                null|                   BBBBYBB|                 ALL|               ALL|        WHITE|                    0|        2006|           -|             0|               null|                 null|                             null|             null|                    null|    null|     null|           null|              null|        null|\n",
      "|05/08/2015| 1315.35| 128829| 10949|Asien--Australien...|    1381653182| FZC4079|                NY|       PAS|            46|             SUBN|       ROVER|             P|       27790|       18550|       18570|               20160523|              0019|                19|             19|     905090|          0019|        0000|          null|               null|            null|                             null|        null|            null|               null|                  0|          0|        null|                null|                      null|                null|              null|         null|                 null|           0|        null|             0|               null|                 null|                             null|             null|                    null|    null|     null|           null|              null|        null|\n",
      "|05/08/2015| 1315.35| 128829| 10949|Asien--Australien...|    1398853793| BRN5120|                FL|       PAS|            50|             null|       ACURA|             P|           0|           0|           0|                      0|              0033|                33|             33|     959696|          0033|        0000|         0041A|               null|              NY|                             null|        null|    S/E/C 160 ST|            FT WASH|                  0|        408|          E2|                null|                   BBBBBBB|                 ALL|               ALL|          GRY|                    0|           0|           -|             0|               null|                 null|                             null|             null|                    null|    null|     null|           null|              null|        null|\n",
      "|05/08/2015|    9.15|  46262| 35273|Nordamerika_USA-N...|    1381018865| GVU7151|                NY|       PAS|            51|             SUBN|       ME/BE|             P|       12130|       60830|       74230|               20170126|              0071|                71|             71|     938590|          0071|        0000|         0430A|               null|               K|                                O|         578|      ALBANY AVE|               null|                  0|        408|          E3|                null|                   BBBBBBB|                 ALL|               ALL|           WT|                    0|        2012|           -|             0|               null|                 null|                             null|             null|                    null|    null|     null|           null|              null|        null|\n",
      "|05/08/2015|    9.15|  46262| 35273|Nordamerika_USA-N...|    1335621763| 57491KA|                NY|       COM|            14|             DELV|       MITSU|             X|       18690|       24890|       10210|               20150508|              0019|                19|            235|     905825|          1235|        0000|         0230P|               null|            null|                                F|         159|   E 85TH STREET|               null|                  0|        408|          E2|                null|                   BBBBYBB|                 ALL|               ALL|        WHITE|                    0|        2006|           -|             0|               null|                 null|                             null|             null|                    null|    null|     null|           null|              null|        null|\n",
      "|05/08/2015|    9.15|  46262| 35273|Nordamerika_USA-N...|    1381653182| FZC4079|                NY|       PAS|            46|             SUBN|       ROVER|             P|       27790|       18550|       18570|               20160523|              0019|                19|             19|     905090|          0019|        0000|          null|               null|            null|                             null|        null|            null|               null|                  0|          0|        null|                null|                      null|                null|              null|         null|                 null|           0|        null|             0|               null|                 null|                             null|             null|                    null|    null|     null|           null|              null|        null|\n",
      "|05/08/2015|    9.15|  46262| 35273|Nordamerika_USA-N...|    1398853793| BRN5120|                FL|       PAS|            50|             null|       ACURA|             P|           0|           0|           0|                      0|              0033|                33|             33|     959696|          0033|        0000|         0041A|               null|              NY|                             null|        null|    S/E/C 160 ST|            FT WASH|                  0|        408|          E2|                null|                   BBBBBBB|                 ALL|               ALL|          GRY|                    0|           0|           -|             0|               null|                 null|                             null|             null|                    null|    null|     null|           null|              null|        null|\n",
      "|06/14/2010| 21300.0|3604521| 12041|Asien--Australien...|    1411912214| FCN8817|                NY|       PAS|            46|             SUBN|       HONDA|             P|       86630|       56230|       26230|               20180121|              0067|                67|             67|     958967|          0067|        0000|         0600P|               null|               K|                                F|         846|       UTICA AVE|               null|                  0|        408|          J2|                null|                   BBBBBBB|                 ALL|               ALL|        GREEN|                    0|           0|           -|             0|               null|                 null|                             null|             null|                    null|    null|     null|           null|              null|        null|\n",
      "|06/14/2010|   19.99| 961600| 35273|Nordamerika_USA-N...|    1411912214| FCN8817|                NY|       PAS|            46|             SUBN|       HONDA|             P|       86630|       56230|       26230|               20180121|              0067|                67|             67|     958967|          0067|        0000|         0600P|               null|               K|                                F|         846|       UTICA AVE|               null|                  0|        408|          J2|                null|                   BBBBBBB|                 ALL|               ALL|        GREEN|                    0|           0|           -|             0|               null|                 null|                             null|             null|                    null|    null|     null|           null|              null|        null|\n",
      "|10/18/2017|   42.95|  22046| 32843|Nordamerika_USA-N...|    1382745540| HAP2531|                NY|       PAS|            19|             SUBN|       NISSA|             P|           0|       40404|       40404|               20170724|              0017|                17|             17|     929572|          0017|        0000|         0100A|               null|              NY|                                F|         952|        1 ST AVE|               null|                  0|        408|          C3|                null|                   BBBBBBB|                 ALL|               ALL|          BLK|                    0|        2015|           -|             0|               null|                 null|                             null|             null|                    null|    null|     null|           null|              null|        null|\n",
      "|10/18/2017|   42.95|  22046| 32843|Nordamerika_USA-N...|    1382745552|  3EBJ43|                MA|       PAS|            19|              SDN|       HONOA|             P|           0|       40404|       40404|                      0|              0017|                17|             17|     929572|          0017|        0000|         0105A|               null|              NY|                                F|         952|        1 ST AVE|               null|                  0|        408|          C3|                null|                   BBBBBBB|                 ALL|               ALL|         GRAT|                    0|           0|           -|             0|               null|                 null|                             null|             null|                    null|    null|     null|           null|              null|        null|\n",
      "|10/18/2017|   42.95|  22046| 32843|Nordamerika_USA-N...|    1387287928| GEX7111|                NY|       PAS|            40|             SUBN|         BMW|             P|       70620|       74690|       76650|               20151118|              0052|                52|            163|     955068|          0163|        0000|         0158A|               null|              BX|                                F|        2338|  UNIVERSITY AVE|               null|                  0|        408|          D3|                null|                   BBBBBBB|                 ALL|               ALL|          WHT|                    0|        2012|           -|             0|               null|                 null|                             null|             null|                    null|    null|     null|           null|              null|        null|\n",
      "|10/18/2017|   42.95|  22046| 32843|Nordamerika_USA-N...|    1386363844|  VWB59P|                NJ|       PAS|            46|              SDN|       HONDA|             P|        6880|        9080|        9130|                      0|              0066|                66|             66|     932456|          0066|        0000|         1252P|               null|               K|                                O|        5029|          18 AVE|               null|                  0|        408|          C3|                null|                   BBBBBBB|                 ALL|               ALL|           WH|                    0|           0|           -|             0|               null|                 null|                             null|             null|                    null|    null|     null|           null|              null|        null|\n",
      "|10/18/2017|   42.95|  22046| 32843|Nordamerika_USA-N...|    1400041340|  1XR931|                MA|       PAS|            46|             SUBN|       TOYOT|             P|       50750|       50020|       56890|               20170131|              0043|                43|             43|     920400|          0043|        0000|         0430P|               null|              BX|                                F|        1372|METROPOLITAN AVE|               null|                  0|        408|           D|                null|                   BBBBBBB|                 ALL|               ALL|        WHITE|                    0|           0|           -|             0|               null|                 null|                             null|             null|                    null|    null|     null|           null|              null|        null|\n",
      "|10/18/2017|   42.95|  22046| 32843|Nordamerika_USA-N...|    1400041375|  UCM31C|                NJ|       PAS|            46|              SDN|         BMW|             P|       20620|       45120|       66920|               20170131|              0043|                43|             43|     920400|          0043|        0000|         0230P|               null|              BX|                                F|         820|     COLGATE AVE|               null|                  0|        408|          F1|                null|                   BBBBBBB|                 ALL|               ALL|        BLACK|                    0|           0|           -|             0|               null|                 null|                             null|             null|                    null|    null|     null|           null|              null|        null|\n",
      "|10/18/2017|    1.06|   5000| 41574|Nordamerika_USA-O...|    1382745540| HAP2531|                NY|       PAS|            19|             SUBN|       NISSA|             P|           0|       40404|       40404|               20170724|              0017|                17|             17|     929572|          0017|        0000|         0100A|               null|              NY|                                F|         952|        1 ST AVE|               null|                  0|        408|          C3|                null|                   BBBBBBB|                 ALL|               ALL|          BLK|                    0|        2015|           -|             0|               null|                 null|                             null|             null|                    null|    null|     null|           null|              null|        null|\n",
      "|10/18/2017|    1.06|   5000| 41574|Nordamerika_USA-O...|    1382745552|  3EBJ43|                MA|       PAS|            19|              SDN|       HONOA|             P|           0|       40404|       40404|                      0|              0017|                17|             17|     929572|          0017|        0000|         0105A|               null|              NY|                                F|         952|        1 ST AVE|               null|                  0|        408|          C3|                null|                   BBBBBBB|                 ALL|               ALL|         GRAT|                    0|           0|           -|             0|               null|                 null|                             null|             null|                    null|    null|     null|           null|              null|        null|\n",
      "|10/18/2017|    1.06|   5000| 41574|Nordamerika_USA-O...|    1387287928| GEX7111|                NY|       PAS|            40|             SUBN|         BMW|             P|       70620|       74690|       76650|               20151118|              0052|                52|            163|     955068|          0163|        0000|         0158A|               null|              BX|                                F|        2338|  UNIVERSITY AVE|               null|                  0|        408|          D3|                null|                   BBBBBBB|                 ALL|               ALL|          WHT|                    0|        2012|           -|             0|               null|                 null|                             null|             null|                    null|    null|     null|           null|              null|        null|\n",
      "|10/18/2017|    1.06|   5000| 41574|Nordamerika_USA-O...|    1386363844|  VWB59P|                NJ|       PAS|            46|              SDN|       HONDA|             P|        6880|        9080|        9130|                      0|              0066|                66|             66|     932456|          0066|        0000|         1252P|               null|               K|                                O|        5029|          18 AVE|               null|                  0|        408|          C3|                null|                   BBBBBBB|                 ALL|               ALL|           WH|                    0|           0|           -|             0|               null|                 null|                             null|             null|                    null|    null|     null|           null|              null|        null|\n",
      "|10/18/2017|    1.06|   5000| 41574|Nordamerika_USA-O...|    1400041340|  1XR931|                MA|       PAS|            46|             SUBN|       TOYOT|             P|       50750|       50020|       56890|               20170131|              0043|                43|             43|     920400|          0043|        0000|         0430P|               null|              BX|                                F|        1372|METROPOLITAN AVE|               null|                  0|        408|           D|                null|                   BBBBBBB|                 ALL|               ALL|        WHITE|                    0|           0|           -|             0|               null|                 null|                             null|             null|                    null|    null|     null|           null|              null|        null|\n",
      "|10/18/2017|    1.06|   5000| 41574|Nordamerika_USA-O...|    1400041375|  UCM31C|                NJ|       PAS|            46|              SDN|         BMW|             P|       20620|       45120|       66920|               20170131|              0043|                43|             43|     920400|          0043|        0000|         0230P|               null|              BX|                                F|         820|     COLGATE AVE|               null|                  0|        408|          F1|                null|                   BBBBBBB|                 ALL|               ALL|        BLACK|                    0|           0|           -|             0|               null|                 null|                             null|             null|                    null|    null|     null|           null|              null|        null|\n",
      "|10/18/2017|    7.25| 186384| 23349|Europa_Schweden_B...|    1382745540| HAP2531|                NY|       PAS|            19|             SUBN|       NISSA|             P|           0|       40404|       40404|               20170724|              0017|                17|             17|     929572|          0017|        0000|         0100A|               null|              NY|                                F|         952|        1 ST AVE|               null|                  0|        408|          C3|                null|                   BBBBBBB|                 ALL|               ALL|          BLK|                    0|        2015|           -|             0|               null|                 null|                             null|             null|                    null|    null|     null|           null|              null|        null|\n",
      "|10/18/2017|    7.25| 186384| 23349|Europa_Schweden_B...|    1382745552|  3EBJ43|                MA|       PAS|            19|              SDN|       HONOA|             P|           0|       40404|       40404|                      0|              0017|                17|             17|     929572|          0017|        0000|         0105A|               null|              NY|                                F|         952|        1 ST AVE|               null|                  0|        408|          C3|                null|                   BBBBBBB|                 ALL|               ALL|         GRAT|                    0|           0|           -|             0|               null|                 null|                             null|             null|                    null|    null|     null|           null|              null|        null|\n",
      "|10/18/2017|    7.25| 186384| 23349|Europa_Schweden_B...|    1387287928| GEX7111|                NY|       PAS|            40|             SUBN|         BMW|             P|       70620|       74690|       76650|               20151118|              0052|                52|            163|     955068|          0163|        0000|         0158A|               null|              BX|                                F|        2338|  UNIVERSITY AVE|               null|                  0|        408|          D3|                null|                   BBBBBBB|                 ALL|               ALL|          WHT|                    0|        2012|           -|             0|               null|                 null|                             null|             null|                    null|    null|     null|           null|              null|        null|\n",
      "|10/18/2017|    7.25| 186384| 23349|Europa_Schweden_B...|    1386363844|  VWB59P|                NJ|       PAS|            46|              SDN|       HONDA|             P|        6880|        9080|        9130|                      0|              0066|                66|             66|     932456|          0066|        0000|         1252P|               null|               K|                                O|        5029|          18 AVE|               null|                  0|        408|          C3|                null|                   BBBBBBB|                 ALL|               ALL|           WH|                    0|           0|           -|             0|               null|                 null|                             null|             null|                    null|    null|     null|           null|              null|        null|\n",
      "|10/18/2017|    7.25| 186384| 23349|Europa_Schweden_B...|    1400041340|  1XR931|                MA|       PAS|            46|             SUBN|       TOYOT|             P|       50750|       50020|       56890|               20170131|              0043|                43|             43|     920400|          0043|        0000|         0430P|               null|              BX|                                F|        1372|METROPOLITAN AVE|               null|                  0|        408|           D|                null|                   BBBBBBB|                 ALL|               ALL|        WHITE|                    0|           0|           -|             0|               null|                 null|                             null|             null|                    null|    null|     null|           null|              null|        null|\n",
      "|10/18/2017|    7.25| 186384| 23349|Europa_Schweden_B...|    1400041375|  UCM31C|                NJ|       PAS|            46|              SDN|         BMW|             P|       20620|       45120|       66920|               20170131|              0043|                43|             43|     920400|          0043|        0000|         0230P|               null|              BX|                                F|         820|     COLGATE AVE|               null|                  0|        408|          F1|                null|                   BBBBBBB|                 ALL|               ALL|        BLACK|                    0|           0|           -|             0|               null|                 null|                             null|             null|                    null|    null|     null|           null|              null|        null|\n",
      "|10/18/2017|  1951.6|   1952| 28549|Futures--Indices-...|    1382745540| HAP2531|                NY|       PAS|            19|             SUBN|       NISSA|             P|           0|       40404|       40404|               20170724|              0017|                17|             17|     929572|          0017|        0000|         0100A|               null|              NY|                                F|         952|        1 ST AVE|               null|                  0|        408|          C3|                null|                   BBBBBBB|                 ALL|               ALL|          BLK|                    0|        2015|           -|             0|               null|                 null|                             null|             null|                    null|    null|     null|           null|              null|        null|\n",
      "|10/18/2017|  1951.6|   1952| 28549|Futures--Indices-...|    1382745552|  3EBJ43|                MA|       PAS|            19|              SDN|       HONOA|             P|           0|       40404|       40404|                      0|              0017|                17|             17|     929572|          0017|        0000|         0105A|               null|              NY|                                F|         952|        1 ST AVE|               null|                  0|        408|          C3|                null|                   BBBBBBB|                 ALL|               ALL|         GRAT|                    0|           0|           -|             0|               null|                 null|                             null|             null|                    null|    null|     null|           null|              null|        null|\n",
      "|10/18/2017|  1951.6|   1952| 28549|Futures--Indices-...|    1387287928| GEX7111|                NY|       PAS|            40|             SUBN|         BMW|             P|       70620|       74690|       76650|               20151118|              0052|                52|            163|     955068|          0163|        0000|         0158A|               null|              BX|                                F|        2338|  UNIVERSITY AVE|               null|                  0|        408|          D3|                null|                   BBBBBBB|                 ALL|               ALL|          WHT|                    0|        2012|           -|             0|               null|                 null|                             null|             null|                    null|    null|     null|           null|              null|        null|\n",
      "|10/18/2017|  1951.6|   1952| 28549|Futures--Indices-...|    1386363844|  VWB59P|                NJ|       PAS|            46|              SDN|       HONDA|             P|        6880|        9080|        9130|                      0|              0066|                66|             66|     932456|          0066|        0000|         1252P|               null|               K|                                O|        5029|          18 AVE|               null|                  0|        408|          C3|                null|                   BBBBBBB|                 ALL|               ALL|           WH|                    0|           0|           -|             0|               null|                 null|                             null|             null|                    null|    null|     null|           null|              null|        null|\n",
      "|10/18/2017|  1951.6|   1952| 28549|Futures--Indices-...|    1400041340|  1XR931|                MA|       PAS|            46|             SUBN|       TOYOT|             P|       50750|       50020|       56890|               20170131|              0043|                43|             43|     920400|          0043|        0000|         0430P|               null|              BX|                                F|        1372|METROPOLITAN AVE|               null|                  0|        408|           D|                null|                   BBBBBBB|                 ALL|               ALL|        WHITE|                    0|           0|           -|             0|               null|                 null|                             null|             null|                    null|    null|     null|           null|              null|        null|\n",
      "|10/18/2017|  1951.6|   1952| 28549|Futures--Indices-...|    1400041375|  UCM31C|                NJ|       PAS|            46|              SDN|         BMW|             P|       20620|       45120|       66920|               20170131|              0043|                43|             43|     920400|          0043|        0000|         0230P|               null|              BX|                                F|         820|     COLGATE AVE|               null|                  0|        408|          F1|                null|                   BBBBBBB|                 ALL|               ALL|        BLACK|                    0|           0|           -|             0|               null|                 null|                             null|             null|                    null|    null|     null|           null|              null|        null|\n",
      "|10/18/2017|    41.8|2926907| 42814|Nordamerika_USA-S...|    1382745540| HAP2531|                NY|       PAS|            19|             SUBN|       NISSA|             P|           0|       40404|       40404|               20170724|              0017|                17|             17|     929572|          0017|        0000|         0100A|               null|              NY|                                F|         952|        1 ST AVE|               null|                  0|        408|          C3|                null|                   BBBBBBB|                 ALL|               ALL|          BLK|                    0|        2015|           -|             0|               null|                 null|                             null|             null|                    null|    null|     null|           null|              null|        null|\n",
      "|10/18/2017|    41.8|2926907| 42814|Nordamerika_USA-S...|    1382745552|  3EBJ43|                MA|       PAS|            19|              SDN|       HONOA|             P|           0|       40404|       40404|                      0|              0017|                17|             17|     929572|          0017|        0000|         0105A|               null|              NY|                                F|         952|        1 ST AVE|               null|                  0|        408|          C3|                null|                   BBBBBBB|                 ALL|               ALL|         GRAT|                    0|           0|           -|             0|               null|                 null|                             null|             null|                    null|    null|     null|           null|              null|        null|\n",
      "|10/18/2017|    41.8|2926907| 42814|Nordamerika_USA-S...|    1387287928| GEX7111|                NY|       PAS|            40|             SUBN|         BMW|             P|       70620|       74690|       76650|               20151118|              0052|                52|            163|     955068|          0163|        0000|         0158A|               null|              BX|                                F|        2338|  UNIVERSITY AVE|               null|                  0|        408|          D3|                null|                   BBBBBBB|                 ALL|               ALL|          WHT|                    0|        2012|           -|             0|               null|                 null|                             null|             null|                    null|    null|     null|           null|              null|        null|\n",
      "|10/18/2017|    41.8|2926907| 42814|Nordamerika_USA-S...|    1386363844|  VWB59P|                NJ|       PAS|            46|              SDN|       HONDA|             P|        6880|        9080|        9130|                      0|              0066|                66|             66|     932456|          0066|        0000|         1252P|               null|               K|                                O|        5029|          18 AVE|               null|                  0|        408|          C3|                null|                   BBBBBBB|                 ALL|               ALL|           WH|                    0|           0|           -|             0|               null|                 null|                             null|             null|                    null|    null|     null|           null|              null|        null|\n",
      "|10/18/2017|    41.8|2926907| 42814|Nordamerika_USA-S...|    1400041340|  1XR931|                MA|       PAS|            46|             SUBN|       TOYOT|             P|       50750|       50020|       56890|               20170131|              0043|                43|             43|     920400|          0043|        0000|         0430P|               null|              BX|                                F|        1372|METROPOLITAN AVE|               null|                  0|        408|           D|                null|                   BBBBBBB|                 ALL|               ALL|        WHITE|                    0|           0|           -|             0|               null|                 null|                             null|             null|                    null|    null|     null|           null|              null|        null|\n",
      "|10/18/2017|    41.8|2926907| 42814|Nordamerika_USA-S...|    1400041375|  UCM31C|                NJ|       PAS|            46|              SDN|         BMW|             P|       20620|       45120|       66920|               20170131|              0043|                43|             43|     920400|          0043|        0000|         0230P|               null|              BX|                                F|         820|     COLGATE AVE|               null|                  0|        408|          F1|                null|                   BBBBBBB|                 ALL|               ALL|        BLACK|                    0|           0|           -|             0|               null|                 null|                             null|             null|                    null|    null|     null|           null|              null|        null|\n",
      "|10/18/2017|   51.69|  73524| 43297|Nordamerika_USA-S...|    1382745540| HAP2531|                NY|       PAS|            19|             SUBN|       NISSA|             P|           0|       40404|       40404|               20170724|              0017|                17|             17|     929572|          0017|        0000|         0100A|               null|              NY|                                F|         952|        1 ST AVE|               null|                  0|        408|          C3|                null|                   BBBBBBB|                 ALL|               ALL|          BLK|                    0|        2015|           -|             0|               null|                 null|                             null|             null|                    null|    null|     null|           null|              null|        null|\n",
      "|10/18/2017|   51.69|  73524| 43297|Nordamerika_USA-S...|    1382745552|  3EBJ43|                MA|       PAS|            19|              SDN|       HONOA|             P|           0|       40404|       40404|                      0|              0017|                17|             17|     929572|          0017|        0000|         0105A|               null|              NY|                                F|         952|        1 ST AVE|               null|                  0|        408|          C3|                null|                   BBBBBBB|                 ALL|               ALL|         GRAT|                    0|           0|           -|             0|               null|                 null|                             null|             null|                    null|    null|     null|           null|              null|        null|\n",
      "|10/18/2017|   51.69|  73524| 43297|Nordamerika_USA-S...|    1387287928| GEX7111|                NY|       PAS|            40|             SUBN|         BMW|             P|       70620|       74690|       76650|               20151118|              0052|                52|            163|     955068|          0163|        0000|         0158A|               null|              BX|                                F|        2338|  UNIVERSITY AVE|               null|                  0|        408|          D3|                null|                   BBBBBBB|                 ALL|               ALL|          WHT|                    0|        2012|           -|             0|               null|                 null|                             null|             null|                    null|    null|     null|           null|              null|        null|\n",
      "|10/18/2017|   51.69|  73524| 43297|Nordamerika_USA-S...|    1386363844|  VWB59P|                NJ|       PAS|            46|              SDN|       HONDA|             P|        6880|        9080|        9130|                      0|              0066|                66|             66|     932456|          0066|        0000|         1252P|               null|               K|                                O|        5029|          18 AVE|               null|                  0|        408|          C3|                null|                   BBBBBBB|                 ALL|               ALL|           WH|                    0|           0|           -|             0|               null|                 null|                             null|             null|                    null|    null|     null|           null|              null|        null|\n",
      "|10/18/2017|   51.69|  73524| 43297|Nordamerika_USA-S...|    1400041340|  1XR931|                MA|       PAS|            46|             SUBN|       TOYOT|             P|       50750|       50020|       56890|               20170131|              0043|                43|             43|     920400|          0043|        0000|         0430P|               null|              BX|                                F|        1372|METROPOLITAN AVE|               null|                  0|        408|           D|                null|                   BBBBBBB|                 ALL|               ALL|        WHITE|                    0|           0|           -|             0|               null|                 null|                             null|             null|                    null|    null|     null|           null|              null|        null|\n",
      "|10/18/2017|   51.69|  73524| 43297|Nordamerika_USA-S...|    1400041375|  UCM31C|                NJ|       PAS|            46|              SDN|         BMW|             P|       20620|       45120|       66920|               20170131|              0043|                43|             43|     920400|          0043|        0000|         0230P|               null|              BX|                                F|         820|     COLGATE AVE|               null|                  0|        408|          F1|                null|                   BBBBBBB|                 ALL|               ALL|        BLACK|                    0|           0|           -|             0|               null|                 null|                             null|             null|                    null|    null|     null|           null|              null|        null|\n",
      "|10/18/2017|    0.34|  15350| 40528|Nordamerika_USA-O...|    1382745540| HAP2531|                NY|       PAS|            19|             SUBN|       NISSA|             P|           0|       40404|       40404|               20170724|              0017|                17|             17|     929572|          0017|        0000|         0100A|               null|              NY|                                F|         952|        1 ST AVE|               null|                  0|        408|          C3|                null|                   BBBBBBB|                 ALL|               ALL|          BLK|                    0|        2015|           -|             0|               null|                 null|                             null|             null|                    null|    null|     null|           null|              null|        null|\n",
      "|10/18/2017|    0.34|  15350| 40528|Nordamerika_USA-O...|    1382745552|  3EBJ43|                MA|       PAS|            19|              SDN|       HONOA|             P|           0|       40404|       40404|                      0|              0017|                17|             17|     929572|          0017|        0000|         0105A|               null|              NY|                                F|         952|        1 ST AVE|               null|                  0|        408|          C3|                null|                   BBBBBBB|                 ALL|               ALL|         GRAT|                    0|           0|           -|             0|               null|                 null|                             null|             null|                    null|    null|     null|           null|              null|        null|\n",
      "|10/18/2017|    0.34|  15350| 40528|Nordamerika_USA-O...|    1387287928| GEX7111|                NY|       PAS|            40|             SUBN|         BMW|             P|       70620|       74690|       76650|               20151118|              0052|                52|            163|     955068|          0163|        0000|         0158A|               null|              BX|                                F|        2338|  UNIVERSITY AVE|               null|                  0|        408|          D3|                null|                   BBBBBBB|                 ALL|               ALL|          WHT|                    0|        2012|           -|             0|               null|                 null|                             null|             null|                    null|    null|     null|           null|              null|        null|\n",
      "|10/18/2017|    0.34|  15350| 40528|Nordamerika_USA-O...|    1386363844|  VWB59P|                NJ|       PAS|            46|              SDN|       HONDA|             P|        6880|        9080|        9130|                      0|              0066|                66|             66|     932456|          0066|        0000|         1252P|               null|               K|                                O|        5029|          18 AVE|               null|                  0|        408|          C3|                null|                   BBBBBBB|                 ALL|               ALL|           WH|                    0|           0|           -|             0|               null|                 null|                             null|             null|                    null|    null|     null|           null|              null|        null|\n",
      "|10/18/2017|    0.34|  15350| 40528|Nordamerika_USA-O...|    1400041340|  1XR931|                MA|       PAS|            46|             SUBN|       TOYOT|             P|       50750|       50020|       56890|               20170131|              0043|                43|             43|     920400|          0043|        0000|         0430P|               null|              BX|                                F|        1372|METROPOLITAN AVE|               null|                  0|        408|           D|                null|                   BBBBBBB|                 ALL|               ALL|        WHITE|                    0|           0|           -|             0|               null|                 null|                             null|             null|                    null|    null|     null|           null|              null|        null|\n",
      "|10/18/2017|    0.34|  15350| 40528|Nordamerika_USA-O...|    1400041375|  UCM31C|                NJ|       PAS|            46|              SDN|         BMW|             P|       20620|       45120|       66920|               20170131|              0043|                43|             43|     920400|          0043|        0000|         0230P|               null|              BX|                                F|         820|     COLGATE AVE|               null|                  0|        408|          F1|                null|                   BBBBBBB|                 ALL|               ALL|        BLACK|                    0|           0|           -|             0|               null|                 null|                             null|             null|                    null|    null|     null|           null|              null|        null|\n",
      "|10/18/2017|   21.95|   4116| 40702|Nordamerika_USA-O...|    1382745540| HAP2531|                NY|       PAS|            19|             SUBN|       NISSA|             P|           0|       40404|       40404|               20170724|              0017|                17|             17|     929572|          0017|        0000|         0100A|               null|              NY|                                F|         952|        1 ST AVE|               null|                  0|        408|          C3|                null|                   BBBBBBB|                 ALL|               ALL|          BLK|                    0|        2015|           -|             0|               null|                 null|                             null|             null|                    null|    null|     null|           null|              null|        null|\n",
      "|10/18/2017|   21.95|   4116| 40702|Nordamerika_USA-O...|    1382745552|  3EBJ43|                MA|       PAS|            19|              SDN|       HONOA|             P|           0|       40404|       40404|                      0|              0017|                17|             17|     929572|          0017|        0000|         0105A|               null|              NY|                                F|         952|        1 ST AVE|               null|                  0|        408|          C3|                null|                   BBBBBBB|                 ALL|               ALL|         GRAT|                    0|           0|           -|             0|               null|                 null|                             null|             null|                    null|    null|     null|           null|              null|        null|\n",
      "|10/18/2017|   21.95|   4116| 40702|Nordamerika_USA-O...|    1387287928| GEX7111|                NY|       PAS|            40|             SUBN|         BMW|             P|       70620|       74690|       76650|               20151118|              0052|                52|            163|     955068|          0163|        0000|         0158A|               null|              BX|                                F|        2338|  UNIVERSITY AVE|               null|                  0|        408|          D3|                null|                   BBBBBBB|                 ALL|               ALL|          WHT|                    0|        2012|           -|             0|               null|                 null|                             null|             null|                    null|    null|     null|           null|              null|        null|\n",
      "|10/18/2017|   21.95|   4116| 40702|Nordamerika_USA-O...|    1386363844|  VWB59P|                NJ|       PAS|            46|              SDN|       HONDA|             P|        6880|        9080|        9130|                      0|              0066|                66|             66|     932456|          0066|        0000|         1252P|               null|               K|                                O|        5029|          18 AVE|               null|                  0|        408|          C3|                null|                   BBBBBBB|                 ALL|               ALL|           WH|                    0|           0|           -|             0|               null|                 null|                             null|             null|                    null|    null|     null|           null|              null|        null|\n",
      "|10/18/2017|   21.95|   4116| 40702|Nordamerika_USA-O...|    1400041340|  1XR931|                MA|       PAS|            46|             SUBN|       TOYOT|             P|       50750|       50020|       56890|               20170131|              0043|                43|             43|     920400|          0043|        0000|         0430P|               null|              BX|                                F|        1372|METROPOLITAN AVE|               null|                  0|        408|           D|                null|                   BBBBBBB|                 ALL|               ALL|        WHITE|                    0|           0|           -|             0|               null|                 null|                             null|             null|                    null|    null|     null|           null|              null|        null|\n",
      "|10/18/2017|   21.95|   4116| 40702|Nordamerika_USA-O...|    1400041375|  UCM31C|                NJ|       PAS|            46|              SDN|         BMW|             P|       20620|       45120|       66920|               20170131|              0043|                43|             43|     920400|          0043|        0000|         0230P|               null|              BX|                                F|         820|     COLGATE AVE|               null|                  0|        408|          F1|                null|                   BBBBBBB|                 ALL|               ALL|        BLACK|                    0|           0|           -|             0|               null|                 null|                             null|             null|                    null|    null|     null|           null|              null|        null|\n",
      "|10/18/2017|   11.04|  25420| 37620|Nordamerika_USA-N...|    1382745540| HAP2531|                NY|       PAS|            19|             SUBN|       NISSA|             P|           0|       40404|       40404|               20170724|              0017|                17|             17|     929572|          0017|        0000|         0100A|               null|              NY|                                F|         952|        1 ST AVE|               null|                  0|        408|          C3|                null|                   BBBBBBB|                 ALL|               ALL|          BLK|                    0|        2015|           -|             0|               null|                 null|                             null|             null|                    null|    null|     null|           null|              null|        null|\n",
      "|10/18/2017|   11.04|  25420| 37620|Nordamerika_USA-N...|    1382745552|  3EBJ43|                MA|       PAS|            19|              SDN|       HONOA|             P|           0|       40404|       40404|                      0|              0017|                17|             17|     929572|          0017|        0000|         0105A|               null|              NY|                                F|         952|        1 ST AVE|               null|                  0|        408|          C3|                null|                   BBBBBBB|                 ALL|               ALL|         GRAT|                    0|           0|           -|             0|               null|                 null|                             null|             null|                    null|    null|     null|           null|              null|        null|\n",
      "|10/18/2017|   11.04|  25420| 37620|Nordamerika_USA-N...|    1387287928| GEX7111|                NY|       PAS|            40|             SUBN|         BMW|             P|       70620|       74690|       76650|               20151118|              0052|                52|            163|     955068|          0163|        0000|         0158A|               null|              BX|                                F|        2338|  UNIVERSITY AVE|               null|                  0|        408|          D3|                null|                   BBBBBBB|                 ALL|               ALL|          WHT|                    0|        2012|           -|             0|               null|                 null|                             null|             null|                    null|    null|     null|           null|              null|        null|\n",
      "|10/18/2017|   11.04|  25420| 37620|Nordamerika_USA-N...|    1386363844|  VWB59P|                NJ|       PAS|            46|              SDN|       HONDA|             P|        6880|        9080|        9130|                      0|              0066|                66|             66|     932456|          0066|        0000|         1252P|               null|               K|                                O|        5029|          18 AVE|               null|                  0|        408|          C3|                null|                   BBBBBBB|                 ALL|               ALL|           WH|                    0|           0|           -|             0|               null|                 null|                             null|             null|                    null|    null|     null|           null|              null|        null|\n",
      "|10/18/2017|   11.04|  25420| 37620|Nordamerika_USA-N...|    1400041340|  1XR931|                MA|       PAS|            46|             SUBN|       TOYOT|             P|       50750|       50020|       56890|               20170131|              0043|                43|             43|     920400|          0043|        0000|         0430P|               null|              BX|                                F|        1372|METROPOLITAN AVE|               null|                  0|        408|           D|                null|                   BBBBBBB|                 ALL|               ALL|        WHITE|                    0|           0|           -|             0|               null|                 null|                             null|             null|                    null|    null|     null|           null|              null|        null|\n",
      "|10/18/2017|   11.04|  25420| 37620|Nordamerika_USA-N...|    1400041375|  UCM31C|                NJ|       PAS|            46|              SDN|         BMW|             P|       20620|       45120|       66920|               20170131|              0043|                43|             43|     920400|          0043|        0000|         0230P|               null|              BX|                                F|         820|     COLGATE AVE|               null|                  0|        408|          F1|                null|                   BBBBBBB|                 ALL|               ALL|        BLACK|                    0|           0|           -|             0|               null|                 null|                             null|             null|                    null|    null|     null|           null|              null|        null|\n",
      "|10/18/2017|   72.94| 329388| 31474|Nordamerika_USA_A...|    1382745540| HAP2531|                NY|       PAS|            19|             SUBN|       NISSA|             P|           0|       40404|       40404|               20170724|              0017|                17|             17|     929572|          0017|        0000|         0100A|               null|              NY|                                F|         952|        1 ST AVE|               null|                  0|        408|          C3|                null|                   BBBBBBB|                 ALL|               ALL|          BLK|                    0|        2015|           -|             0|               null|                 null|                             null|             null|                    null|    null|     null|           null|              null|        null|\n",
      "|10/18/2017|   72.94| 329388| 31474|Nordamerika_USA_A...|    1382745552|  3EBJ43|                MA|       PAS|            19|              SDN|       HONOA|             P|           0|       40404|       40404|                      0|              0017|                17|             17|     929572|          0017|        0000|         0105A|               null|              NY|                                F|         952|        1 ST AVE|               null|                  0|        408|          C3|                null|                   BBBBBBB|                 ALL|               ALL|         GRAT|                    0|           0|           -|             0|               null|                 null|                             null|             null|                    null|    null|     null|           null|              null|        null|\n",
      "|10/18/2017|   72.94| 329388| 31474|Nordamerika_USA_A...|    1387287928| GEX7111|                NY|       PAS|            40|             SUBN|         BMW|             P|       70620|       74690|       76650|               20151118|              0052|                52|            163|     955068|          0163|        0000|         0158A|               null|              BX|                                F|        2338|  UNIVERSITY AVE|               null|                  0|        408|          D3|                null|                   BBBBBBB|                 ALL|               ALL|          WHT|                    0|        2012|           -|             0|               null|                 null|                             null|             null|                    null|    null|     null|           null|              null|        null|\n",
      "|10/18/2017|   72.94| 329388| 31474|Nordamerika_USA_A...|    1386363844|  VWB59P|                NJ|       PAS|            46|              SDN|       HONDA|             P|        6880|        9080|        9130|                      0|              0066|                66|             66|     932456|          0066|        0000|         1252P|               null|               K|                                O|        5029|          18 AVE|               null|                  0|        408|          C3|                null|                   BBBBBBB|                 ALL|               ALL|           WH|                    0|           0|           -|             0|               null|                 null|                             null|             null|                    null|    null|     null|           null|              null|        null|\n",
      "|10/18/2017|   72.94| 329388| 31474|Nordamerika_USA_A...|    1400041340|  1XR931|                MA|       PAS|            46|             SUBN|       TOYOT|             P|       50750|       50020|       56890|               20170131|              0043|                43|             43|     920400|          0043|        0000|         0430P|               null|              BX|                                F|        1372|METROPOLITAN AVE|               null|                  0|        408|           D|                null|                   BBBBBBB|                 ALL|               ALL|        WHITE|                    0|           0|           -|             0|               null|                 null|                             null|             null|                    null|    null|     null|           null|              null|        null|\n",
      "|10/18/2017|   72.94| 329388| 31474|Nordamerika_USA_A...|    1400041375|  UCM31C|                NJ|       PAS|            46|              SDN|         BMW|             P|       20620|       45120|       66920|               20170131|              0043|                43|             43|     920400|          0043|        0000|         0230P|               null|              BX|                                F|         820|     COLGATE AVE|               null|                  0|        408|          F1|                null|                   BBBBBBB|                 ALL|               ALL|        BLACK|                    0|           0|           -|             0|               null|                 null|                             null|             null|                    null|    null|     null|           null|              null|        null|\n",
      "|10/18/2017|2345.575|   2346| 28721|Futures--Indices-...|    1382745540| HAP2531|                NY|       PAS|            19|             SUBN|       NISSA|             P|           0|       40404|       40404|               20170724|              0017|                17|             17|     929572|          0017|        0000|         0100A|               null|              NY|                                F|         952|        1 ST AVE|               null|                  0|        408|          C3|                null|                   BBBBBBB|                 ALL|               ALL|          BLK|                    0|        2015|           -|             0|               null|                 null|                             null|             null|                    null|    null|     null|           null|              null|        null|\n",
      "|10/18/2017|2345.575|   2346| 28721|Futures--Indices-...|    1382745552|  3EBJ43|                MA|       PAS|            19|              SDN|       HONOA|             P|           0|       40404|       40404|                      0|              0017|                17|             17|     929572|          0017|        0000|         0105A|               null|              NY|                                F|         952|        1 ST AVE|               null|                  0|        408|          C3|                null|                   BBBBBBB|                 ALL|               ALL|         GRAT|                    0|           0|           -|             0|               null|                 null|                             null|             null|                    null|    null|     null|           null|              null|        null|\n",
      "|10/18/2017|2345.575|   2346| 28721|Futures--Indices-...|    1387287928| GEX7111|                NY|       PAS|            40|             SUBN|         BMW|             P|       70620|       74690|       76650|               20151118|              0052|                52|            163|     955068|          0163|        0000|         0158A|               null|              BX|                                F|        2338|  UNIVERSITY AVE|               null|                  0|        408|          D3|                null|                   BBBBBBB|                 ALL|               ALL|          WHT|                    0|        2012|           -|             0|               null|                 null|                             null|             null|                    null|    null|     null|           null|              null|        null|\n",
      "|10/18/2017|2345.575|   2346| 28721|Futures--Indices-...|    1386363844|  VWB59P|                NJ|       PAS|            46|              SDN|       HONDA|             P|        6880|        9080|        9130|                      0|              0066|                66|             66|     932456|          0066|        0000|         1252P|               null|               K|                                O|        5029|          18 AVE|               null|                  0|        408|          C3|                null|                   BBBBBBB|                 ALL|               ALL|           WH|                    0|           0|           -|             0|               null|                 null|                             null|             null|                    null|    null|     null|           null|              null|        null|\n",
      "|10/18/2017|2345.575|   2346| 28721|Futures--Indices-...|    1400041340|  1XR931|                MA|       PAS|            46|             SUBN|       TOYOT|             P|       50750|       50020|       56890|               20170131|              0043|                43|             43|     920400|          0043|        0000|         0430P|               null|              BX|                                F|        1372|METROPOLITAN AVE|               null|                  0|        408|           D|                null|                   BBBBBBB|                 ALL|               ALL|        WHITE|                    0|           0|           -|             0|               null|                 null|                             null|             null|                    null|    null|     null|           null|              null|        null|\n",
      "|10/18/2017|2345.575|   2346| 28721|Futures--Indices-...|    1400041375|  UCM31C|                NJ|       PAS|            46|              SDN|         BMW|             P|       20620|       45120|       66920|               20170131|              0043|                43|             43|     920400|          0043|        0000|         0230P|               null|              BX|                                F|         820|     COLGATE AVE|               null|                  0|        408|          F1|                null|                   BBBBBBB|                 ALL|               ALL|        BLACK|                    0|           0|           -|             0|               null|                 null|                             null|             null|                    null|    null|     null|           null|              null|        null|\n",
      "|10/18/2017| 17349.0| 221262| 12173|Asien--Australien...|    1382745540| HAP2531|                NY|       PAS|            19|             SUBN|       NISSA|             P|           0|       40404|       40404|               20170724|              0017|                17|             17|     929572|          0017|        0000|         0100A|               null|              NY|                                F|         952|        1 ST AVE|               null|                  0|        408|          C3|                null|                   BBBBBBB|                 ALL|               ALL|          BLK|                    0|        2015|           -|             0|               null|                 null|                             null|             null|                    null|    null|     null|           null|              null|        null|\n",
      "|10/18/2017| 17349.0| 221262| 12173|Asien--Australien...|    1382745552|  3EBJ43|                MA|       PAS|            19|              SDN|       HONOA|             P|           0|       40404|       40404|                      0|              0017|                17|             17|     929572|          0017|        0000|         0105A|               null|              NY|                                F|         952|        1 ST AVE|               null|                  0|        408|          C3|                null|                   BBBBBBB|                 ALL|               ALL|         GRAT|                    0|           0|           -|             0|               null|                 null|                             null|             null|                    null|    null|     null|           null|              null|        null|\n",
      "|10/18/2017| 17349.0| 221262| 12173|Asien--Australien...|    1387287928| GEX7111|                NY|       PAS|            40|             SUBN|         BMW|             P|       70620|       74690|       76650|               20151118|              0052|                52|            163|     955068|          0163|        0000|         0158A|               null|              BX|                                F|        2338|  UNIVERSITY AVE|               null|                  0|        408|          D3|                null|                   BBBBBBB|                 ALL|               ALL|          WHT|                    0|        2012|           -|             0|               null|                 null|                             null|             null|                    null|    null|     null|           null|              null|        null|\n",
      "|10/18/2017| 17349.0| 221262| 12173|Asien--Australien...|    1386363844|  VWB59P|                NJ|       PAS|            46|              SDN|       HONDA|             P|        6880|        9080|        9130|                      0|              0066|                66|             66|     932456|          0066|        0000|         1252P|               null|               K|                                O|        5029|          18 AVE|               null|                  0|        408|          C3|                null|                   BBBBBBB|                 ALL|               ALL|           WH|                    0|           0|           -|             0|               null|                 null|                             null|             null|                    null|    null|     null|           null|              null|        null|\n",
      "|10/18/2017| 17349.0| 221262| 12173|Asien--Australien...|    1400041340|  1XR931|                MA|       PAS|            46|             SUBN|       TOYOT|             P|       50750|       50020|       56890|               20170131|              0043|                43|             43|     920400|          0043|        0000|         0430P|               null|              BX|                                F|        1372|METROPOLITAN AVE|               null|                  0|        408|           D|                null|                   BBBBBBB|                 ALL|               ALL|        WHITE|                    0|           0|           -|             0|               null|                 null|                             null|             null|                    null|    null|     null|           null|              null|        null|\n",
      "|10/18/2017| 17349.0| 221262| 12173|Asien--Australien...|    1400041375|  UCM31C|                NJ|       PAS|            46|              SDN|         BMW|             P|       20620|       45120|       66920|               20170131|              0043|                43|             43|     920400|          0043|        0000|         0230P|               null|              BX|                                F|         820|     COLGATE AVE|               null|                  0|        408|          F1|                null|                   BBBBBBB|                 ALL|               ALL|        BLACK|                    0|           0|           -|             0|               null|                 null|                             null|             null|                    null|    null|     null|           null|              null|        null|\n",
      "|10/18/2017|  138.23|1585207| 35413|Nordamerika_USA-N...|    1382745540| HAP2531|                NY|       PAS|            19|             SUBN|       NISSA|             P|           0|       40404|       40404|               20170724|              0017|                17|             17|     929572|          0017|        0000|         0100A|               null|              NY|                                F|         952|        1 ST AVE|               null|                  0|        408|          C3|                null|                   BBBBBBB|                 ALL|               ALL|          BLK|                    0|        2015|           -|             0|               null|                 null|                             null|             null|                    null|    null|     null|           null|              null|        null|\n",
      "|10/18/2017|  138.23|1585207| 35413|Nordamerika_USA-N...|    1382745552|  3EBJ43|                MA|       PAS|            19|              SDN|       HONOA|             P|           0|       40404|       40404|                      0|              0017|                17|             17|     929572|          0017|        0000|         0105A|               null|              NY|                                F|         952|        1 ST AVE|               null|                  0|        408|          C3|                null|                   BBBBBBB|                 ALL|               ALL|         GRAT|                    0|           0|           -|             0|               null|                 null|                             null|             null|                    null|    null|     null|           null|              null|        null|\n",
      "|10/18/2017|  138.23|1585207| 35413|Nordamerika_USA-N...|    1387287928| GEX7111|                NY|       PAS|            40|             SUBN|         BMW|             P|       70620|       74690|       76650|               20151118|              0052|                52|            163|     955068|          0163|        0000|         0158A|               null|              BX|                                F|        2338|  UNIVERSITY AVE|               null|                  0|        408|          D3|                null|                   BBBBBBB|                 ALL|               ALL|          WHT|                    0|        2012|           -|             0|               null|                 null|                             null|             null|                    null|    null|     null|           null|              null|        null|\n",
      "|10/18/2017|  138.23|1585207| 35413|Nordamerika_USA-N...|    1386363844|  VWB59P|                NJ|       PAS|            46|              SDN|       HONDA|             P|        6880|        9080|        9130|                      0|              0066|                66|             66|     932456|          0066|        0000|         1252P|               null|               K|                                O|        5029|          18 AVE|               null|                  0|        408|          C3|                null|                   BBBBBBB|                 ALL|               ALL|           WH|                    0|           0|           -|             0|               null|                 null|                             null|             null|                    null|    null|     null|           null|              null|        null|\n",
      "|10/18/2017|  138.23|1585207| 35413|Nordamerika_USA-N...|    1400041340|  1XR931|                MA|       PAS|            46|             SUBN|       TOYOT|             P|       50750|       50020|       56890|               20170131|              0043|                43|             43|     920400|          0043|        0000|         0430P|               null|              BX|                                F|        1372|METROPOLITAN AVE|               null|                  0|        408|           D|                null|                   BBBBBBB|                 ALL|               ALL|        WHITE|                    0|           0|           -|             0|               null|                 null|                             null|             null|                    null|    null|     null|           null|              null|        null|\n",
      "|10/18/2017|  138.23|1585207| 35413|Nordamerika_USA-N...|    1400041375|  UCM31C|                NJ|       PAS|            46|              SDN|         BMW|             P|       20620|       45120|       66920|               20170131|              0043|                43|             43|     920400|          0043|        0000|         0230P|               null|              BX|                                F|         820|     COLGATE AVE|               null|                  0|        408|          F1|                null|                   BBBBBBB|                 ALL|               ALL|        BLACK|                    0|           0|           -|             0|               null|                 null|                             null|             null|                    null|    null|     null|           null|              null|        null|\n",
      "+----------+--------+-------+------+--------------------+--------------+--------+------------------+----------+--------------+-----------------+------------+--------------+------------+------------+------------+-----------------------+------------------+------------------+---------------+-----------+--------------+------------+--------------+-------------------+----------------+---------------------------------+------------+----------------+-------------------+-------------------+-----------+------------+--------------------+--------------------------+--------------------+------------------+-------------+---------------------+------------+------------+--------------+-------------------+---------------------+---------------------------------+-----------------+------------------------+--------+---------+---------------+------------------+------------+\n",
      "only showing top 100 rows\n",
      "\n"
     ]
    }
   ],
   "source": [
    "df = raw_df.join(time_df,['Date'],how='inner').distinct()\n",
    "df.show(100)"
   ]
  },
  {
   "cell_type": "code",
   "execution_count": 13,
   "id": "78904c31",
   "metadata": {},
   "outputs": [
    {
     "name": "stdout",
     "output_type": "stream",
     "text": [
      "root\n",
      " |-- Date: string (nullable = true)\n",
      " |-- Price: double (nullable = true)\n",
      " |-- Volume: string (nullable = true)\n",
      " |-- Number: string (nullable = true)\n",
      " |-- Name: string (nullable = true)\n",
      " |-- Summons Number: string (nullable = true)\n",
      " |-- Plate ID: string (nullable = true)\n",
      " |-- Registration State: string (nullable = true)\n",
      " |-- Plate Type: string (nullable = true)\n",
      " |-- Violation Code: string (nullable = true)\n",
      " |-- Vehicle Body Type: string (nullable = true)\n",
      " |-- Vehicle Make: string (nullable = true)\n",
      " |-- Issuing Agency: string (nullable = true)\n",
      " |-- Street Code1: string (nullable = true)\n",
      " |-- Street Code2: string (nullable = true)\n",
      " |-- Street Code3: string (nullable = true)\n",
      " |-- Vehicle Expiration Date: string (nullable = true)\n",
      " |-- Violation Location: string (nullable = true)\n",
      " |-- Violation Precinct: string (nullable = true)\n",
      " |-- Issuer Precinct: string (nullable = true)\n",
      " |-- Issuer Code: string (nullable = true)\n",
      " |-- Issuer Command: string (nullable = true)\n",
      " |-- Issuer Squad: string (nullable = true)\n",
      " |-- Violation Time: string (nullable = true)\n",
      " |-- Time First Observed: string (nullable = true)\n",
      " |-- Violation County: string (nullable = true)\n",
      " |-- Violation In Front Of Or Opposite: string (nullable = true)\n",
      " |-- House Number: string (nullable = true)\n",
      " |-- Street Name: string (nullable = true)\n",
      " |-- Intersecting Street: string (nullable = true)\n",
      " |-- Date First Observed: string (nullable = true)\n",
      " |-- Law Section: string (nullable = true)\n",
      " |-- Sub Division: string (nullable = true)\n",
      " |-- Violation Legal Code: string (nullable = true)\n",
      " |-- Days Parking In Effect    : string (nullable = true)\n",
      " |-- From Hours In Effect: string (nullable = true)\n",
      " |-- To Hours In Effect: string (nullable = true)\n",
      " |-- Vehicle Color: string (nullable = true)\n",
      " |-- Unregistered Vehicle?: string (nullable = true)\n",
      " |-- Vehicle Year: string (nullable = true)\n",
      " |-- Meter Number: string (nullable = true)\n",
      " |-- Feet From Curb: string (nullable = true)\n",
      " |-- Violation Post Code: string (nullable = true)\n",
      " |-- Violation Description: string (nullable = true)\n",
      " |-- No Standing or Stopping Violation: string (nullable = true)\n",
      " |-- Hydrant Violation: string (nullable = true)\n",
      " |-- Double Parking Violation: string (nullable = true)\n",
      " |-- Latitude: string (nullable = true)\n",
      " |-- Longitude: string (nullable = true)\n",
      " |-- Community Board: string (nullable = true)\n",
      " |-- Community Council : string (nullable = true)\n",
      " |-- Census Tract: string (nullable = true)\n",
      "\n"
     ]
    }
   ],
   "source": [
    "df.printSchema()"
   ]
  },
  {
   "cell_type": "code",
   "execution_count": 15,
   "id": "fedef039",
   "metadata": {},
   "outputs": [
    {
     "name": "stderr",
     "output_type": "stream",
     "text": [
      "ERROR:py4j.java_gateway:An error occurred while trying to connect to the Java server (127.0.0.1:50155)\n",
      "Traceback (most recent call last):\n",
      "  File \"C:\\Spark\\spark-3.0.2-bin-hadoop2.7\\python\\lib\\py4j-0.10.9-src.zip\\py4j\\java_gateway.py\", line 1193, in send_command\n",
      "    self.socket.sendall(command.encode(\"utf-8\"))\n",
      "ConnectionResetError: [WinError 10054] An existing connection was forcibly closed by the remote host\n",
      "\n",
      "During handling of the above exception, another exception occurred:\n",
      "\n",
      "Traceback (most recent call last):\n",
      "  File \"C:\\Spark\\spark-3.0.2-bin-hadoop2.7\\python\\lib\\py4j-0.10.9-src.zip\\py4j\\java_gateway.py\", line 1033, in send_command\n",
      "    response = connection.send_command(command)\n",
      "  File \"C:\\Spark\\spark-3.0.2-bin-hadoop2.7\\python\\lib\\py4j-0.10.9-src.zip\\py4j\\java_gateway.py\", line 1196, in send_command\n",
      "    raise Py4JNetworkError(\n",
      "py4j.protocol.Py4JNetworkError: Error while sending\n",
      "\n",
      "During handling of the above exception, another exception occurred:\n",
      "\n",
      "Traceback (most recent call last):\n",
      "  File \"C:\\Spark\\spark-3.0.2-bin-hadoop2.7\\python\\lib\\py4j-0.10.9-src.zip\\py4j\\java_gateway.py\", line 977, in _get_connection\n",
      "    connection = self.deque.pop()\n",
      "IndexError: pop from an empty deque\n",
      "\n",
      "During handling of the above exception, another exception occurred:\n",
      "\n",
      "Traceback (most recent call last):\n",
      "  File \"C:\\Spark\\spark-3.0.2-bin-hadoop2.7\\python\\lib\\py4j-0.10.9-src.zip\\py4j\\java_gateway.py\", line 1115, in start\n",
      "    self.socket.connect((self.address, self.port))\n",
      "ConnectionRefusedError: [WinError 10061] No connection could be made because the target machine actively refused it\n"
     ]
    },
    {
     "ename": "Py4JNetworkError",
     "evalue": "An error occurred while trying to connect to the Java server (127.0.0.1:50155)",
     "output_type": "error",
     "traceback": [
      "\u001b[1;31m---------------------------------------------------------------------------\u001b[0m",
      "\u001b[1;31mConnectionResetError\u001b[0m                      Traceback (most recent call last)",
      "\u001b[1;32mC:\\Spark\\spark-3.0.2-bin-hadoop2.7\\python\\lib\\py4j-0.10.9-src.zip\\py4j\\java_gateway.py\u001b[0m in \u001b[0;36msend_command\u001b[1;34m(self, command)\u001b[0m\n\u001b[0;32m   1192\u001b[0m             \u001b[1;31m# if it sent a RST packet (SO_LINGER)\u001b[0m\u001b[1;33m\u001b[0m\u001b[1;33m\u001b[0m\u001b[1;33m\u001b[0m\u001b[0m\n\u001b[1;32m-> 1193\u001b[1;33m             \u001b[0mself\u001b[0m\u001b[1;33m.\u001b[0m\u001b[0msocket\u001b[0m\u001b[1;33m.\u001b[0m\u001b[0msendall\u001b[0m\u001b[1;33m(\u001b[0m\u001b[0mcommand\u001b[0m\u001b[1;33m.\u001b[0m\u001b[0mencode\u001b[0m\u001b[1;33m(\u001b[0m\u001b[1;34m\"utf-8\"\u001b[0m\u001b[1;33m)\u001b[0m\u001b[1;33m)\u001b[0m\u001b[1;33m\u001b[0m\u001b[1;33m\u001b[0m\u001b[0m\n\u001b[0m\u001b[0;32m   1194\u001b[0m         \u001b[1;32mexcept\u001b[0m \u001b[0mException\u001b[0m \u001b[1;32mas\u001b[0m \u001b[0me\u001b[0m\u001b[1;33m:\u001b[0m\u001b[1;33m\u001b[0m\u001b[1;33m\u001b[0m\u001b[0m\n",
      "\u001b[1;31mConnectionResetError\u001b[0m: [WinError 10054] An existing connection was forcibly closed by the remote host",
      "\nDuring handling of the above exception, another exception occurred:\n",
      "\u001b[1;31mPy4JNetworkError\u001b[0m                          Traceback (most recent call last)",
      "\u001b[1;32mC:\\Spark\\spark-3.0.2-bin-hadoop2.7\\python\\lib\\py4j-0.10.9-src.zip\\py4j\\java_gateway.py\u001b[0m in \u001b[0;36msend_command\u001b[1;34m(self, command, retry, binary)\u001b[0m\n\u001b[0;32m   1032\u001b[0m         \u001b[1;32mtry\u001b[0m\u001b[1;33m:\u001b[0m\u001b[1;33m\u001b[0m\u001b[1;33m\u001b[0m\u001b[0m\n\u001b[1;32m-> 1033\u001b[1;33m             \u001b[0mresponse\u001b[0m \u001b[1;33m=\u001b[0m \u001b[0mconnection\u001b[0m\u001b[1;33m.\u001b[0m\u001b[0msend_command\u001b[0m\u001b[1;33m(\u001b[0m\u001b[0mcommand\u001b[0m\u001b[1;33m)\u001b[0m\u001b[1;33m\u001b[0m\u001b[1;33m\u001b[0m\u001b[0m\n\u001b[0m\u001b[0;32m   1034\u001b[0m             \u001b[1;32mif\u001b[0m \u001b[0mbinary\u001b[0m\u001b[1;33m:\u001b[0m\u001b[1;33m\u001b[0m\u001b[1;33m\u001b[0m\u001b[0m\n",
      "\u001b[1;32mC:\\Spark\\spark-3.0.2-bin-hadoop2.7\\python\\lib\\py4j-0.10.9-src.zip\\py4j\\java_gateway.py\u001b[0m in \u001b[0;36msend_command\u001b[1;34m(self, command)\u001b[0m\n\u001b[0;32m   1195\u001b[0m             \u001b[0mlogger\u001b[0m\u001b[1;33m.\u001b[0m\u001b[0minfo\u001b[0m\u001b[1;33m(\u001b[0m\u001b[1;34m\"Error while sending.\"\u001b[0m\u001b[1;33m,\u001b[0m \u001b[0mexc_info\u001b[0m\u001b[1;33m=\u001b[0m\u001b[1;32mTrue\u001b[0m\u001b[1;33m)\u001b[0m\u001b[1;33m\u001b[0m\u001b[1;33m\u001b[0m\u001b[0m\n\u001b[1;32m-> 1196\u001b[1;33m             raise Py4JNetworkError(\n\u001b[0m\u001b[0;32m   1197\u001b[0m                 \"Error while sending\", e, proto.ERROR_ON_SEND)\n",
      "\u001b[1;31mPy4JNetworkError\u001b[0m: Error while sending",
      "\nDuring handling of the above exception, another exception occurred:\n",
      "\u001b[1;31mIndexError\u001b[0m                                Traceback (most recent call last)",
      "\u001b[1;32mC:\\Spark\\spark-3.0.2-bin-hadoop2.7\\python\\lib\\py4j-0.10.9-src.zip\\py4j\\java_gateway.py\u001b[0m in \u001b[0;36m_get_connection\u001b[1;34m(self)\u001b[0m\n\u001b[0;32m    976\u001b[0m         \u001b[1;32mtry\u001b[0m\u001b[1;33m:\u001b[0m\u001b[1;33m\u001b[0m\u001b[1;33m\u001b[0m\u001b[0m\n\u001b[1;32m--> 977\u001b[1;33m             \u001b[0mconnection\u001b[0m \u001b[1;33m=\u001b[0m \u001b[0mself\u001b[0m\u001b[1;33m.\u001b[0m\u001b[0mdeque\u001b[0m\u001b[1;33m.\u001b[0m\u001b[0mpop\u001b[0m\u001b[1;33m(\u001b[0m\u001b[1;33m)\u001b[0m\u001b[1;33m\u001b[0m\u001b[1;33m\u001b[0m\u001b[0m\n\u001b[0m\u001b[0;32m    978\u001b[0m         \u001b[1;32mexcept\u001b[0m \u001b[0mIndexError\u001b[0m\u001b[1;33m:\u001b[0m\u001b[1;33m\u001b[0m\u001b[1;33m\u001b[0m\u001b[0m\n",
      "\u001b[1;31mIndexError\u001b[0m: pop from an empty deque",
      "\nDuring handling of the above exception, another exception occurred:\n",
      "\u001b[1;31mConnectionRefusedError\u001b[0m                    Traceback (most recent call last)",
      "\u001b[1;32mC:\\Spark\\spark-3.0.2-bin-hadoop2.7\\python\\lib\\py4j-0.10.9-src.zip\\py4j\\java_gateway.py\u001b[0m in \u001b[0;36mstart\u001b[1;34m(self)\u001b[0m\n\u001b[0;32m   1114\u001b[0m         \u001b[1;32mtry\u001b[0m\u001b[1;33m:\u001b[0m\u001b[1;33m\u001b[0m\u001b[1;33m\u001b[0m\u001b[0m\n\u001b[1;32m-> 1115\u001b[1;33m             \u001b[0mself\u001b[0m\u001b[1;33m.\u001b[0m\u001b[0msocket\u001b[0m\u001b[1;33m.\u001b[0m\u001b[0mconnect\u001b[0m\u001b[1;33m(\u001b[0m\u001b[1;33m(\u001b[0m\u001b[0mself\u001b[0m\u001b[1;33m.\u001b[0m\u001b[0maddress\u001b[0m\u001b[1;33m,\u001b[0m \u001b[0mself\u001b[0m\u001b[1;33m.\u001b[0m\u001b[0mport\u001b[0m\u001b[1;33m)\u001b[0m\u001b[1;33m)\u001b[0m\u001b[1;33m\u001b[0m\u001b[1;33m\u001b[0m\u001b[0m\n\u001b[0m\u001b[0;32m   1116\u001b[0m             \u001b[0mself\u001b[0m\u001b[1;33m.\u001b[0m\u001b[0mstream\u001b[0m \u001b[1;33m=\u001b[0m \u001b[0mself\u001b[0m\u001b[1;33m.\u001b[0m\u001b[0msocket\u001b[0m\u001b[1;33m.\u001b[0m\u001b[0mmakefile\u001b[0m\u001b[1;33m(\u001b[0m\u001b[1;34m\"rb\"\u001b[0m\u001b[1;33m)\u001b[0m\u001b[1;33m\u001b[0m\u001b[1;33m\u001b[0m\u001b[0m\n",
      "\u001b[1;31mConnectionRefusedError\u001b[0m: [WinError 10061] No connection could be made because the target machine actively refused it",
      "\nDuring handling of the above exception, another exception occurred:\n",
      "\u001b[1;31mPy4JNetworkError\u001b[0m                          Traceback (most recent call last)",
      "\u001b[1;32m<ipython-input-15-eab70d8ea78b>\u001b[0m in \u001b[0;36m<module>\u001b[1;34m\u001b[0m\n\u001b[1;32m----> 1\u001b[1;33m \u001b[0mprint\u001b[0m\u001b[1;33m(\u001b[0m\u001b[0mdf\u001b[0m\u001b[1;33m.\u001b[0m\u001b[0mcount\u001b[0m\u001b[1;33m(\u001b[0m\u001b[1;33m)\u001b[0m\u001b[1;33m)\u001b[0m\u001b[1;33m\u001b[0m\u001b[1;33m\u001b[0m\u001b[0m\n\u001b[0m",
      "\u001b[1;32mC:\\Spark\\spark-3.0.2-bin-hadoop2.7\\python\\pyspark\\sql\\dataframe.py\u001b[0m in \u001b[0;36mcount\u001b[1;34m(self)\u001b[0m\n\u001b[0;32m    583\u001b[0m         \u001b[1;36m2\u001b[0m\u001b[1;33m\u001b[0m\u001b[1;33m\u001b[0m\u001b[0m\n\u001b[0;32m    584\u001b[0m         \"\"\"\n\u001b[1;32m--> 585\u001b[1;33m         \u001b[1;32mreturn\u001b[0m \u001b[0mint\u001b[0m\u001b[1;33m(\u001b[0m\u001b[0mself\u001b[0m\u001b[1;33m.\u001b[0m\u001b[0m_jdf\u001b[0m\u001b[1;33m.\u001b[0m\u001b[0mcount\u001b[0m\u001b[1;33m(\u001b[0m\u001b[1;33m)\u001b[0m\u001b[1;33m)\u001b[0m\u001b[1;33m\u001b[0m\u001b[1;33m\u001b[0m\u001b[0m\n\u001b[0m\u001b[0;32m    586\u001b[0m \u001b[1;33m\u001b[0m\u001b[0m\n\u001b[0;32m    587\u001b[0m     \u001b[1;33m@\u001b[0m\u001b[0mignore_unicode_prefix\u001b[0m\u001b[1;33m\u001b[0m\u001b[1;33m\u001b[0m\u001b[0m\n",
      "\u001b[1;32mC:\\Spark\\spark-3.0.2-bin-hadoop2.7\\python\\lib\\py4j-0.10.9-src.zip\\py4j\\java_gateway.py\u001b[0m in \u001b[0;36m__call__\u001b[1;34m(self, *args)\u001b[0m\n\u001b[0;32m   1301\u001b[0m             \u001b[0mproto\u001b[0m\u001b[1;33m.\u001b[0m\u001b[0mEND_COMMAND_PART\u001b[0m\u001b[1;33m\u001b[0m\u001b[1;33m\u001b[0m\u001b[0m\n\u001b[0;32m   1302\u001b[0m \u001b[1;33m\u001b[0m\u001b[0m\n\u001b[1;32m-> 1303\u001b[1;33m         \u001b[0manswer\u001b[0m \u001b[1;33m=\u001b[0m \u001b[0mself\u001b[0m\u001b[1;33m.\u001b[0m\u001b[0mgateway_client\u001b[0m\u001b[1;33m.\u001b[0m\u001b[0msend_command\u001b[0m\u001b[1;33m(\u001b[0m\u001b[0mcommand\u001b[0m\u001b[1;33m)\u001b[0m\u001b[1;33m\u001b[0m\u001b[1;33m\u001b[0m\u001b[0m\n\u001b[0m\u001b[0;32m   1304\u001b[0m         return_value = get_return_value(\n\u001b[0;32m   1305\u001b[0m             answer, self.gateway_client, self.target_id, self.name)\n",
      "\u001b[1;32mC:\\Spark\\spark-3.0.2-bin-hadoop2.7\\python\\lib\\py4j-0.10.9-src.zip\\py4j\\java_gateway.py\u001b[0m in \u001b[0;36msend_command\u001b[1;34m(self, command, retry, binary)\u001b[0m\n\u001b[0;32m   1046\u001b[0m             \u001b[1;32mif\u001b[0m \u001b[0mself\u001b[0m\u001b[1;33m.\u001b[0m\u001b[0m_should_retry\u001b[0m\u001b[1;33m(\u001b[0m\u001b[0mretry\u001b[0m\u001b[1;33m,\u001b[0m \u001b[0mconnection\u001b[0m\u001b[1;33m,\u001b[0m \u001b[0mpne\u001b[0m\u001b[1;33m)\u001b[0m\u001b[1;33m:\u001b[0m\u001b[1;33m\u001b[0m\u001b[1;33m\u001b[0m\u001b[0m\n\u001b[0;32m   1047\u001b[0m                 \u001b[0mlogging\u001b[0m\u001b[1;33m.\u001b[0m\u001b[0minfo\u001b[0m\u001b[1;33m(\u001b[0m\u001b[1;34m\"Exception while sending command.\"\u001b[0m\u001b[1;33m,\u001b[0m \u001b[0mexc_info\u001b[0m\u001b[1;33m=\u001b[0m\u001b[1;32mTrue\u001b[0m\u001b[1;33m)\u001b[0m\u001b[1;33m\u001b[0m\u001b[1;33m\u001b[0m\u001b[0m\n\u001b[1;32m-> 1048\u001b[1;33m                 \u001b[0mresponse\u001b[0m \u001b[1;33m=\u001b[0m \u001b[0mself\u001b[0m\u001b[1;33m.\u001b[0m\u001b[0msend_command\u001b[0m\u001b[1;33m(\u001b[0m\u001b[0mcommand\u001b[0m\u001b[1;33m,\u001b[0m \u001b[0mbinary\u001b[0m\u001b[1;33m=\u001b[0m\u001b[0mbinary\u001b[0m\u001b[1;33m)\u001b[0m\u001b[1;33m\u001b[0m\u001b[1;33m\u001b[0m\u001b[0m\n\u001b[0m\u001b[0;32m   1049\u001b[0m             \u001b[1;32melse\u001b[0m\u001b[1;33m:\u001b[0m\u001b[1;33m\u001b[0m\u001b[1;33m\u001b[0m\u001b[0m\n\u001b[0;32m   1050\u001b[0m                 logging.exception(\n",
      "\u001b[1;32mC:\\Spark\\spark-3.0.2-bin-hadoop2.7\\python\\lib\\py4j-0.10.9-src.zip\\py4j\\java_gateway.py\u001b[0m in \u001b[0;36msend_command\u001b[1;34m(self, command, retry, binary)\u001b[0m\n\u001b[0;32m   1029\u001b[0m          \u001b[1;32mif\u001b[0m\u001b[0;31m \u001b[0m\u001b[0;31m`\u001b[0m\u001b[0mbinary\u001b[0m\u001b[0;31m`\u001b[0m \u001b[1;32mis\u001b[0m\u001b[0;31m \u001b[0m\u001b[0;31m`\u001b[0m\u001b[1;32mTrue\u001b[0m\u001b[0;31m`\u001b[0m\u001b[1;33m.\u001b[0m\u001b[1;33m\u001b[0m\u001b[1;33m\u001b[0m\u001b[0m\n\u001b[0;32m   1030\u001b[0m         \"\"\"\n\u001b[1;32m-> 1031\u001b[1;33m         \u001b[0mconnection\u001b[0m \u001b[1;33m=\u001b[0m \u001b[0mself\u001b[0m\u001b[1;33m.\u001b[0m\u001b[0m_get_connection\u001b[0m\u001b[1;33m(\u001b[0m\u001b[1;33m)\u001b[0m\u001b[1;33m\u001b[0m\u001b[1;33m\u001b[0m\u001b[0m\n\u001b[0m\u001b[0;32m   1032\u001b[0m         \u001b[1;32mtry\u001b[0m\u001b[1;33m:\u001b[0m\u001b[1;33m\u001b[0m\u001b[1;33m\u001b[0m\u001b[0m\n\u001b[0;32m   1033\u001b[0m             \u001b[0mresponse\u001b[0m \u001b[1;33m=\u001b[0m \u001b[0mconnection\u001b[0m\u001b[1;33m.\u001b[0m\u001b[0msend_command\u001b[0m\u001b[1;33m(\u001b[0m\u001b[0mcommand\u001b[0m\u001b[1;33m)\u001b[0m\u001b[1;33m\u001b[0m\u001b[1;33m\u001b[0m\u001b[0m\n",
      "\u001b[1;32mC:\\Spark\\spark-3.0.2-bin-hadoop2.7\\python\\lib\\py4j-0.10.9-src.zip\\py4j\\java_gateway.py\u001b[0m in \u001b[0;36m_get_connection\u001b[1;34m(self)\u001b[0m\n\u001b[0;32m    977\u001b[0m             \u001b[0mconnection\u001b[0m \u001b[1;33m=\u001b[0m \u001b[0mself\u001b[0m\u001b[1;33m.\u001b[0m\u001b[0mdeque\u001b[0m\u001b[1;33m.\u001b[0m\u001b[0mpop\u001b[0m\u001b[1;33m(\u001b[0m\u001b[1;33m)\u001b[0m\u001b[1;33m\u001b[0m\u001b[1;33m\u001b[0m\u001b[0m\n\u001b[0;32m    978\u001b[0m         \u001b[1;32mexcept\u001b[0m \u001b[0mIndexError\u001b[0m\u001b[1;33m:\u001b[0m\u001b[1;33m\u001b[0m\u001b[1;33m\u001b[0m\u001b[0m\n\u001b[1;32m--> 979\u001b[1;33m             \u001b[0mconnection\u001b[0m \u001b[1;33m=\u001b[0m \u001b[0mself\u001b[0m\u001b[1;33m.\u001b[0m\u001b[0m_create_connection\u001b[0m\u001b[1;33m(\u001b[0m\u001b[1;33m)\u001b[0m\u001b[1;33m\u001b[0m\u001b[1;33m\u001b[0m\u001b[0m\n\u001b[0m\u001b[0;32m    980\u001b[0m         \u001b[1;32mreturn\u001b[0m \u001b[0mconnection\u001b[0m\u001b[1;33m\u001b[0m\u001b[1;33m\u001b[0m\u001b[0m\n\u001b[0;32m    981\u001b[0m \u001b[1;33m\u001b[0m\u001b[0m\n",
      "\u001b[1;32mC:\\Spark\\spark-3.0.2-bin-hadoop2.7\\python\\lib\\py4j-0.10.9-src.zip\\py4j\\java_gateway.py\u001b[0m in \u001b[0;36m_create_connection\u001b[1;34m(self)\u001b[0m\n\u001b[0;32m    983\u001b[0m         connection = GatewayConnection(\n\u001b[0;32m    984\u001b[0m             self.gateway_parameters, self.gateway_property)\n\u001b[1;32m--> 985\u001b[1;33m         \u001b[0mconnection\u001b[0m\u001b[1;33m.\u001b[0m\u001b[0mstart\u001b[0m\u001b[1;33m(\u001b[0m\u001b[1;33m)\u001b[0m\u001b[1;33m\u001b[0m\u001b[1;33m\u001b[0m\u001b[0m\n\u001b[0m\u001b[0;32m    986\u001b[0m         \u001b[1;32mreturn\u001b[0m \u001b[0mconnection\u001b[0m\u001b[1;33m\u001b[0m\u001b[1;33m\u001b[0m\u001b[0m\n\u001b[0;32m    987\u001b[0m \u001b[1;33m\u001b[0m\u001b[0m\n",
      "\u001b[1;32mC:\\Spark\\spark-3.0.2-bin-hadoop2.7\\python\\lib\\py4j-0.10.9-src.zip\\py4j\\java_gateway.py\u001b[0m in \u001b[0;36mstart\u001b[1;34m(self)\u001b[0m\n\u001b[0;32m   1125\u001b[0m                 \u001b[1;34m\"server ({0}:{1})\"\u001b[0m\u001b[1;33m.\u001b[0m\u001b[0mformat\u001b[0m\u001b[1;33m(\u001b[0m\u001b[0mself\u001b[0m\u001b[1;33m.\u001b[0m\u001b[0maddress\u001b[0m\u001b[1;33m,\u001b[0m \u001b[0mself\u001b[0m\u001b[1;33m.\u001b[0m\u001b[0mport\u001b[0m\u001b[1;33m)\u001b[0m\u001b[1;33m\u001b[0m\u001b[1;33m\u001b[0m\u001b[0m\n\u001b[0;32m   1126\u001b[0m             \u001b[0mlogger\u001b[0m\u001b[1;33m.\u001b[0m\u001b[0mexception\u001b[0m\u001b[1;33m(\u001b[0m\u001b[0mmsg\u001b[0m\u001b[1;33m)\u001b[0m\u001b[1;33m\u001b[0m\u001b[1;33m\u001b[0m\u001b[0m\n\u001b[1;32m-> 1127\u001b[1;33m             \u001b[1;32mraise\u001b[0m \u001b[0mPy4JNetworkError\u001b[0m\u001b[1;33m(\u001b[0m\u001b[0mmsg\u001b[0m\u001b[1;33m,\u001b[0m \u001b[0me\u001b[0m\u001b[1;33m)\u001b[0m\u001b[1;33m\u001b[0m\u001b[1;33m\u001b[0m\u001b[0m\n\u001b[0m\u001b[0;32m   1128\u001b[0m \u001b[1;33m\u001b[0m\u001b[0m\n\u001b[0;32m   1129\u001b[0m     \u001b[1;32mdef\u001b[0m \u001b[0m_authenticate_connection\u001b[0m\u001b[1;33m(\u001b[0m\u001b[0mself\u001b[0m\u001b[1;33m)\u001b[0m\u001b[1;33m:\u001b[0m\u001b[1;33m\u001b[0m\u001b[1;33m\u001b[0m\u001b[0m\n",
      "\u001b[1;31mPy4JNetworkError\u001b[0m: An error occurred while trying to connect to the Java server (127.0.0.1:50155)"
     ]
    }
   ],
   "source": [
    "print(df.count())"
   ]
  },
  {
   "cell_type": "code",
   "execution_count": null,
   "id": "84c1957d",
   "metadata": {},
   "outputs": [],
   "source": []
  }
 ],
 "metadata": {
  "kernelspec": {
   "display_name": "Python 3",
   "language": "python",
   "name": "python3"
  },
  "language_info": {
   "codemirror_mode": {
    "name": "ipython",
    "version": 3
   },
   "file_extension": ".py",
   "mimetype": "text/x-python",
   "name": "python",
   "nbconvert_exporter": "python",
   "pygments_lexer": "ipython3",
   "version": "3.8.10"
  }
 },
 "nbformat": 4,
 "nbformat_minor": 5
}
